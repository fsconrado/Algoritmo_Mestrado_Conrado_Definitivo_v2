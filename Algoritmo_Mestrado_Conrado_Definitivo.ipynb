{
  "nbformat": 4,
  "nbformat_minor": 0,
  "metadata": {
    "colab": {
      "name": "Algoritmo Mestrado Conrado Definitivo.ipynb",
      "provenance": [],
      "collapsed_sections": [
        "7weV3Bth3o_-",
        "H3BuxkaKzWCx",
        "GxNIeiRc38K-",
        "FCedH6fgrYrl",
        "XxgyPNGX3ylI",
        "9yYjOsLxurKB",
        "ZAjK5orIOw9k"
      ],
      "mount_file_id": "1I0VwQiPF9CHrgev-huPEnD1PFq8ZiaDA",
      "authorship_tag": "ABX9TyNkxBnVko0+UkAKteSxcQjf",
      "include_colab_link": true
    },
    "kernelspec": {
      "name": "python3",
      "display_name": "Python 3"
    },
    "language_info": {
      "name": "python"
    }
  },
  "cells": [
    {
      "cell_type": "markdown",
      "metadata": {
        "id": "view-in-github",
        "colab_type": "text"
      },
      "source": [
        "<a href=\"https://colab.research.google.com/github/fsconrado/Algoritmo_Mestrado_Conrado_Definitivo_v2/blob/main/Algoritmo_Mestrado_Conrado_Definitivo.ipynb\" target=\"_parent\"><img src=\"https://colab.research.google.com/assets/colab-badge.svg\" alt=\"Open In Colab\"/></a>"
      ]
    },
    {
      "cell_type": "markdown",
      "source": [
        "# **Visão dos Dados - Fabiano Conrado"
      ],
      "metadata": {
        "id": "7weV3Bth3o_-"
      }
    },
    {
      "cell_type": "code",
      "execution_count": 3255,
      "metadata": {
        "id": "S823WBu63iBQ"
      },
      "outputs": [],
      "source": [
        "#1. IMPORTAR O DATASET (COLUNAS IMPORTANTES: AGE, SEX, LYVE1, REG1B, TFF1 ==> ALVO PREVER A COLUNA STAGE.3)\n",
        "#!pip install plotly --upgrade\n",
        "#Baixar os dados e jogar na variável DADOS\n",
        "import pandas as pd\n",
        "\n",
        "dados = pd.read_csv(\"dataMODIFICADOv10F.csv\", sep=\",\")\n",
        "dados = dados.fillna(1, inplace= False)\n",
        "# 16 colunas\n"
      ]
    },
    {
      "cell_type": "code",
      "source": [
        "dados"
      ],
      "metadata": {
        "colab": {
          "base_uri": "https://localhost:8080/",
          "height": 0
        },
        "id": "MLSQ8HYU4K8i",
        "outputId": "9dfd91c7-a149-44bf-bae3-9a7722c35af6"
      },
      "execution_count": 3256,
      "outputs": [
        {
          "output_type": "execute_result",
          "data": {
            "text/plain": [
              "    sample_id patient_cohort sample_origin  diagnosis stage sex  age  \\\n",
              "0        S497        Cohort1           ESP          3     I   F   81   \n",
              "1        S456        Cohort1           LIV          3    IA   M   57   \n",
              "2        S520        Cohort1          BPTB          3    IA   M   55   \n",
              "3        S573        Cohort2          BPTB          3    IA   M   58   \n",
              "4        S401        Cohort1           LIV          3    IB   M   73   \n",
              "..        ...            ...           ...        ...   ...  ..  ...   \n",
              "194      S549        Cohort2          BPTB          3    IV   M   68   \n",
              "195      S558        Cohort2          BPTB          3    IV   F   71   \n",
              "196      S560        Cohort2          BPTB          3    IV   M   63   \n",
              "197      S583        Cohort2          BPTB          3    IV   F   75   \n",
              "198      S590        Cohort1          BPTB          3    IV   M   74   \n",
              "\n",
              "         LYVE1       REG1B         TFF1  creatinine  plasma_CA19_9      REG1A  \\\n",
              "0    12.017150  431.422530   874.099700     0.56550            1.0      1.000   \n",
              "1     2.628425   40.620818   529.984000     1.73043           10.0    155.270   \n",
              "2     2.830541   33.406150   323.175770     0.47502           11.0    210.185   \n",
              "3     0.632433  188.253000   138.630000     0.44109           11.0      1.000   \n",
              "4    12.245820  196.921830  1529.183124     0.70122         3236.0    432.917   \n",
              "..         ...         ...          ...         ...            ...        ...   \n",
              "194   7.058209  156.241000   525.178000     0.52026            1.0      1.000   \n",
              "195   8.341207   16.915000   245.947000     0.85956            1.0      1.000   \n",
              "196   7.674707  289.701000   537.286000     1.36851            1.0      1.000   \n",
              "197   8.206777  205.930000   722.523000     1.33458            1.0      1.000   \n",
              "198   8.200958  411.938275  2021.321078     1.50423         1488.0  13200.000   \n",
              "\n",
              "    stage2  \n",
              "0        I  \n",
              "1        I  \n",
              "2        I  \n",
              "3        I  \n",
              "4        I  \n",
              "..     ...  \n",
              "194     IV  \n",
              "195     IV  \n",
              "196     IV  \n",
              "197     IV  \n",
              "198     IV  \n",
              "\n",
              "[199 rows x 14 columns]"
            ],
            "text/html": [
              "\n",
              "  <div id=\"df-6d536e30-7338-434a-88e0-59d8f2a16af1\">\n",
              "    <div class=\"colab-df-container\">\n",
              "      <div>\n",
              "<style scoped>\n",
              "    .dataframe tbody tr th:only-of-type {\n",
              "        vertical-align: middle;\n",
              "    }\n",
              "\n",
              "    .dataframe tbody tr th {\n",
              "        vertical-align: top;\n",
              "    }\n",
              "\n",
              "    .dataframe thead th {\n",
              "        text-align: right;\n",
              "    }\n",
              "</style>\n",
              "<table border=\"1\" class=\"dataframe\">\n",
              "  <thead>\n",
              "    <tr style=\"text-align: right;\">\n",
              "      <th></th>\n",
              "      <th>sample_id</th>\n",
              "      <th>patient_cohort</th>\n",
              "      <th>sample_origin</th>\n",
              "      <th>diagnosis</th>\n",
              "      <th>stage</th>\n",
              "      <th>sex</th>\n",
              "      <th>age</th>\n",
              "      <th>LYVE1</th>\n",
              "      <th>REG1B</th>\n",
              "      <th>TFF1</th>\n",
              "      <th>creatinine</th>\n",
              "      <th>plasma_CA19_9</th>\n",
              "      <th>REG1A</th>\n",
              "      <th>stage2</th>\n",
              "    </tr>\n",
              "  </thead>\n",
              "  <tbody>\n",
              "    <tr>\n",
              "      <th>0</th>\n",
              "      <td>S497</td>\n",
              "      <td>Cohort1</td>\n",
              "      <td>ESP</td>\n",
              "      <td>3</td>\n",
              "      <td>I</td>\n",
              "      <td>F</td>\n",
              "      <td>81</td>\n",
              "      <td>12.017150</td>\n",
              "      <td>431.422530</td>\n",
              "      <td>874.099700</td>\n",
              "      <td>0.56550</td>\n",
              "      <td>1.0</td>\n",
              "      <td>1.000</td>\n",
              "      <td>I</td>\n",
              "    </tr>\n",
              "    <tr>\n",
              "      <th>1</th>\n",
              "      <td>S456</td>\n",
              "      <td>Cohort1</td>\n",
              "      <td>LIV</td>\n",
              "      <td>3</td>\n",
              "      <td>IA</td>\n",
              "      <td>M</td>\n",
              "      <td>57</td>\n",
              "      <td>2.628425</td>\n",
              "      <td>40.620818</td>\n",
              "      <td>529.984000</td>\n",
              "      <td>1.73043</td>\n",
              "      <td>10.0</td>\n",
              "      <td>155.270</td>\n",
              "      <td>I</td>\n",
              "    </tr>\n",
              "    <tr>\n",
              "      <th>2</th>\n",
              "      <td>S520</td>\n",
              "      <td>Cohort1</td>\n",
              "      <td>BPTB</td>\n",
              "      <td>3</td>\n",
              "      <td>IA</td>\n",
              "      <td>M</td>\n",
              "      <td>55</td>\n",
              "      <td>2.830541</td>\n",
              "      <td>33.406150</td>\n",
              "      <td>323.175770</td>\n",
              "      <td>0.47502</td>\n",
              "      <td>11.0</td>\n",
              "      <td>210.185</td>\n",
              "      <td>I</td>\n",
              "    </tr>\n",
              "    <tr>\n",
              "      <th>3</th>\n",
              "      <td>S573</td>\n",
              "      <td>Cohort2</td>\n",
              "      <td>BPTB</td>\n",
              "      <td>3</td>\n",
              "      <td>IA</td>\n",
              "      <td>M</td>\n",
              "      <td>58</td>\n",
              "      <td>0.632433</td>\n",
              "      <td>188.253000</td>\n",
              "      <td>138.630000</td>\n",
              "      <td>0.44109</td>\n",
              "      <td>11.0</td>\n",
              "      <td>1.000</td>\n",
              "      <td>I</td>\n",
              "    </tr>\n",
              "    <tr>\n",
              "      <th>4</th>\n",
              "      <td>S401</td>\n",
              "      <td>Cohort1</td>\n",
              "      <td>LIV</td>\n",
              "      <td>3</td>\n",
              "      <td>IB</td>\n",
              "      <td>M</td>\n",
              "      <td>73</td>\n",
              "      <td>12.245820</td>\n",
              "      <td>196.921830</td>\n",
              "      <td>1529.183124</td>\n",
              "      <td>0.70122</td>\n",
              "      <td>3236.0</td>\n",
              "      <td>432.917</td>\n",
              "      <td>I</td>\n",
              "    </tr>\n",
              "    <tr>\n",
              "      <th>...</th>\n",
              "      <td>...</td>\n",
              "      <td>...</td>\n",
              "      <td>...</td>\n",
              "      <td>...</td>\n",
              "      <td>...</td>\n",
              "      <td>...</td>\n",
              "      <td>...</td>\n",
              "      <td>...</td>\n",
              "      <td>...</td>\n",
              "      <td>...</td>\n",
              "      <td>...</td>\n",
              "      <td>...</td>\n",
              "      <td>...</td>\n",
              "      <td>...</td>\n",
              "    </tr>\n",
              "    <tr>\n",
              "      <th>194</th>\n",
              "      <td>S549</td>\n",
              "      <td>Cohort2</td>\n",
              "      <td>BPTB</td>\n",
              "      <td>3</td>\n",
              "      <td>IV</td>\n",
              "      <td>M</td>\n",
              "      <td>68</td>\n",
              "      <td>7.058209</td>\n",
              "      <td>156.241000</td>\n",
              "      <td>525.178000</td>\n",
              "      <td>0.52026</td>\n",
              "      <td>1.0</td>\n",
              "      <td>1.000</td>\n",
              "      <td>IV</td>\n",
              "    </tr>\n",
              "    <tr>\n",
              "      <th>195</th>\n",
              "      <td>S558</td>\n",
              "      <td>Cohort2</td>\n",
              "      <td>BPTB</td>\n",
              "      <td>3</td>\n",
              "      <td>IV</td>\n",
              "      <td>F</td>\n",
              "      <td>71</td>\n",
              "      <td>8.341207</td>\n",
              "      <td>16.915000</td>\n",
              "      <td>245.947000</td>\n",
              "      <td>0.85956</td>\n",
              "      <td>1.0</td>\n",
              "      <td>1.000</td>\n",
              "      <td>IV</td>\n",
              "    </tr>\n",
              "    <tr>\n",
              "      <th>196</th>\n",
              "      <td>S560</td>\n",
              "      <td>Cohort2</td>\n",
              "      <td>BPTB</td>\n",
              "      <td>3</td>\n",
              "      <td>IV</td>\n",
              "      <td>M</td>\n",
              "      <td>63</td>\n",
              "      <td>7.674707</td>\n",
              "      <td>289.701000</td>\n",
              "      <td>537.286000</td>\n",
              "      <td>1.36851</td>\n",
              "      <td>1.0</td>\n",
              "      <td>1.000</td>\n",
              "      <td>IV</td>\n",
              "    </tr>\n",
              "    <tr>\n",
              "      <th>197</th>\n",
              "      <td>S583</td>\n",
              "      <td>Cohort2</td>\n",
              "      <td>BPTB</td>\n",
              "      <td>3</td>\n",
              "      <td>IV</td>\n",
              "      <td>F</td>\n",
              "      <td>75</td>\n",
              "      <td>8.206777</td>\n",
              "      <td>205.930000</td>\n",
              "      <td>722.523000</td>\n",
              "      <td>1.33458</td>\n",
              "      <td>1.0</td>\n",
              "      <td>1.000</td>\n",
              "      <td>IV</td>\n",
              "    </tr>\n",
              "    <tr>\n",
              "      <th>198</th>\n",
              "      <td>S590</td>\n",
              "      <td>Cohort1</td>\n",
              "      <td>BPTB</td>\n",
              "      <td>3</td>\n",
              "      <td>IV</td>\n",
              "      <td>M</td>\n",
              "      <td>74</td>\n",
              "      <td>8.200958</td>\n",
              "      <td>411.938275</td>\n",
              "      <td>2021.321078</td>\n",
              "      <td>1.50423</td>\n",
              "      <td>1488.0</td>\n",
              "      <td>13200.000</td>\n",
              "      <td>IV</td>\n",
              "    </tr>\n",
              "  </tbody>\n",
              "</table>\n",
              "<p>199 rows × 14 columns</p>\n",
              "</div>\n",
              "      <button class=\"colab-df-convert\" onclick=\"convertToInteractive('df-6d536e30-7338-434a-88e0-59d8f2a16af1')\"\n",
              "              title=\"Convert this dataframe to an interactive table.\"\n",
              "              style=\"display:none;\">\n",
              "        \n",
              "  <svg xmlns=\"http://www.w3.org/2000/svg\" height=\"24px\"viewBox=\"0 0 24 24\"\n",
              "       width=\"24px\">\n",
              "    <path d=\"M0 0h24v24H0V0z\" fill=\"none\"/>\n",
              "    <path d=\"M18.56 5.44l.94 2.06.94-2.06 2.06-.94-2.06-.94-.94-2.06-.94 2.06-2.06.94zm-11 1L8.5 8.5l.94-2.06 2.06-.94-2.06-.94L8.5 2.5l-.94 2.06-2.06.94zm10 10l.94 2.06.94-2.06 2.06-.94-2.06-.94-.94-2.06-.94 2.06-2.06.94z\"/><path d=\"M17.41 7.96l-1.37-1.37c-.4-.4-.92-.59-1.43-.59-.52 0-1.04.2-1.43.59L10.3 9.45l-7.72 7.72c-.78.78-.78 2.05 0 2.83L4 21.41c.39.39.9.59 1.41.59.51 0 1.02-.2 1.41-.59l7.78-7.78 2.81-2.81c.8-.78.8-2.07 0-2.86zM5.41 20L4 18.59l7.72-7.72 1.47 1.35L5.41 20z\"/>\n",
              "  </svg>\n",
              "      </button>\n",
              "      \n",
              "  <style>\n",
              "    .colab-df-container {\n",
              "      display:flex;\n",
              "      flex-wrap:wrap;\n",
              "      gap: 12px;\n",
              "    }\n",
              "\n",
              "    .colab-df-convert {\n",
              "      background-color: #E8F0FE;\n",
              "      border: none;\n",
              "      border-radius: 50%;\n",
              "      cursor: pointer;\n",
              "      display: none;\n",
              "      fill: #1967D2;\n",
              "      height: 32px;\n",
              "      padding: 0 0 0 0;\n",
              "      width: 32px;\n",
              "    }\n",
              "\n",
              "    .colab-df-convert:hover {\n",
              "      background-color: #E2EBFA;\n",
              "      box-shadow: 0px 1px 2px rgba(60, 64, 67, 0.3), 0px 1px 3px 1px rgba(60, 64, 67, 0.15);\n",
              "      fill: #174EA6;\n",
              "    }\n",
              "\n",
              "    [theme=dark] .colab-df-convert {\n",
              "      background-color: #3B4455;\n",
              "      fill: #D2E3FC;\n",
              "    }\n",
              "\n",
              "    [theme=dark] .colab-df-convert:hover {\n",
              "      background-color: #434B5C;\n",
              "      box-shadow: 0px 1px 3px 1px rgba(0, 0, 0, 0.15);\n",
              "      filter: drop-shadow(0px 1px 2px rgba(0, 0, 0, 0.3));\n",
              "      fill: #FFFFFF;\n",
              "    }\n",
              "  </style>\n",
              "\n",
              "      <script>\n",
              "        const buttonEl =\n",
              "          document.querySelector('#df-6d536e30-7338-434a-88e0-59d8f2a16af1 button.colab-df-convert');\n",
              "        buttonEl.style.display =\n",
              "          google.colab.kernel.accessAllowed ? 'block' : 'none';\n",
              "\n",
              "        async function convertToInteractive(key) {\n",
              "          const element = document.querySelector('#df-6d536e30-7338-434a-88e0-59d8f2a16af1');\n",
              "          const dataTable =\n",
              "            await google.colab.kernel.invokeFunction('convertToInteractive',\n",
              "                                                     [key], {});\n",
              "          if (!dataTable) return;\n",
              "\n",
              "          const docLinkHtml = 'Like what you see? Visit the ' +\n",
              "            '<a target=\"_blank\" href=https://colab.research.google.com/notebooks/data_table.ipynb>data table notebook</a>'\n",
              "            + ' to learn more about interactive tables.';\n",
              "          element.innerHTML = '';\n",
              "          dataTable['output_type'] = 'display_data';\n",
              "          await google.colab.output.renderOutput(dataTable, element);\n",
              "          const docLink = document.createElement('div');\n",
              "          docLink.innerHTML = docLinkHtml;\n",
              "          element.appendChild(docLink);\n",
              "        }\n",
              "      </script>\n",
              "    </div>\n",
              "  </div>\n",
              "  "
            ]
          },
          "metadata": {},
          "execution_count": 3256
        }
      ]
    },
    {
      "cell_type": "code",
      "source": [
        "#Avaliar o número de amostras para cada classe(estadiamento)\n",
        "import numpy as np\n",
        "np.unique(dados['stage2'], return_counts = True)"
      ],
      "metadata": {
        "colab": {
          "base_uri": "https://localhost:8080/"
        },
        "id": "_rDad23J4nVK",
        "outputId": "f1567b77-86d1-442f-a8cb-ee96cba2e277"
      },
      "execution_count": 3257,
      "outputs": [
        {
          "output_type": "execute_result",
          "data": {
            "text/plain": [
              "(array(['I', 'II', 'III', 'IV'], dtype=object), array([16, 86, 76, 21]))"
            ]
          },
          "metadata": {},
          "execution_count": 3257
        }
      ]
    },
    {
      "cell_type": "code",
      "source": [
        "#Gerar um gráfico para avaliar visualmente o número de amostras para cada classe, objetivo é avaliar se os dados estão balanceados.\n",
        "import seaborn as sns\n",
        "sns.countplot(x = dados['stage2']);"
      ],
      "metadata": {
        "colab": {
          "base_uri": "https://localhost:8080/",
          "height": 0
        },
        "id": "mPaQPJPb7p1U",
        "outputId": "e2d27f5c-13a0-40d8-e87e-54ad44347e35"
      },
      "execution_count": 3258,
      "outputs": [
        {
          "output_type": "display_data",
          "data": {
            "text/plain": [
              "<Figure size 576x396 with 1 Axes>"
            ],
            "image/png": "[encoded data removed]"
          },
          "metadata": {}
        }
      ]
    },
    {
      "cell_type": "markdown",
      "source": [
        "# **01. KnnClassifier**{*Unbalanced*} => 0.425"
      ],
      "metadata": {
        "id": "H3BuxkaKzWCx"
      }
    },
    {
      "cell_type": "code",
      "source": [
        "#PREPARAR OS DADOS ==> Importar e tratar os dados\n",
        "import pandas as pd\n",
        "\n",
        "# Importando o Arquivo\n",
        "dados = pd.read_csv(\"dataMODIFICADOv10F.csv\", sep=\",\")\n",
        "\n",
        "#Transformando os nulos para 0\n",
        "dados = dados.fillna(1, inplace= False) \n",
        "\n",
        "#Separando as variaveis de interesse | sex\tage\tLYVE1\tREG1B\tTFF1\tcreatinine\tplasma_CA19_9\tREG1A\t\n",
        "X_dados = dados.iloc[:,5:13].values\n",
        "X_dados \n",
        "\n",
        "#Separando a classe alvo | stage2\n",
        "y_dados = dados.iloc[:,13].values\n",
        "y_dados\n",
        "\n",
        "# Tratando as colunas que São rotulos | sex\n",
        "from sklearn.preprocessing import LabelEncoder\n",
        "\n",
        "label_encoder_sex = LabelEncoder()\n",
        "X_dados[:,0] = label_encoder_sex.fit_transform(X_dados[:,0])\n",
        "X_dados\n",
        "\n",
        "#Onehot\n",
        "from sklearn.preprocessing import OneHotEncoder\n",
        "from sklearn.compose import ColumnTransformer\n",
        "\n",
        "onehotencorder = ColumnTransformer(transformers=[(\"OneHot\", OneHotEncoder(), [0])],remainder='passthrough')\n",
        "X_dados = onehotencorder.fit_transform(X_dados)\n",
        "X_dados\n",
        "\n",
        "#ESCALONAMENTO DE ATRIBUTOS\n",
        "from sklearn.preprocessing import StandardScaler\n",
        "scaler_dados = StandardScaler()\n",
        "X_dados = scaler_dados.fit_transform(X_dados)\n",
        "\n",
        "\n",
        "#Separação dos dados SEM o balanceamento\n",
        "from sklearn.model_selection import train_test_split\n",
        "\n",
        "X_dados_train , X_dados_test, y_dados_train, y_dados_test = train_test_split(X_dados, y_dados, test_size=0.2, random_state=0)\n",
        "X_dados_train.shape, X_dados_test.shape\n",
        "X_knn_modelc_teste1 = X_dados_test\n",
        "y_knn_modelc_teste1 = y_dados_test\n",
        "y_knn_modelc_teste1\n"
      ],
      "metadata": {
        "colab": {
          "base_uri": "https://localhost:8080/"
        },
        "id": "Vvp9U02RnAoZ",
        "outputId": "5da9cbb7-ec61-477a-a8ba-1228b9d58a8d"
      },
      "execution_count": 3259,
      "outputs": [
        {
          "output_type": "execute_result",
          "data": {
            "text/plain": [
              "array(['II', 'III', 'III', 'II', 'III', 'IV', 'I', 'III', 'I', 'III',\n",
              "       'II', 'III', 'III', 'III', 'II', 'I', 'II', 'III', 'II', 'II',\n",
              "       'III', 'III', 'II', 'III', 'II', 'III', 'IV', 'IV', 'II', 'II',\n",
              "       'II', 'II', 'II', 'III', 'II', 'IV', 'III', 'I', 'III', 'IV'],\n",
              "      dtype=object)"
            ]
          },
          "metadata": {},
          "execution_count": 3259
        }
      ]
    },
    {
      "cell_type": "code",
      "source": [
        "#KNN CLASSIFICADOR\n",
        "from sklearn.neighbors import KNeighborsClassifier\n",
        "from sklearn.metrics import classification_report, confusion_matrix,plot_confusion_matrix\n",
        "from sklearn.preprocessing import StandardScaler"
      ],
      "metadata": {
        "id": "ZuMKk6VIzYyS"
      },
      "execution_count": 3260,
      "outputs": []
    },
    {
      "cell_type": "code",
      "source": [
        "knn_modelc = KNeighborsClassifier(n_neighbors=5, metric='minkowski', p = 3)\n",
        "knn_modelc.fit(X_dados_train, y_dados_train)"
      ],
      "metadata": {
        "colab": {
          "base_uri": "https://localhost:8080/"
        },
        "id": "SSg6zZ8h11mN",
        "outputId": "a2708518-c81d-4802-a29f-9451b237a809"
      },
      "execution_count": 3261,
      "outputs": [
        {
          "output_type": "execute_result",
          "data": {
            "text/plain": [
              "KNeighborsClassifier(p=3)"
            ]
          },
          "metadata": {},
          "execution_count": 3261
        }
      ]
    },
    {
      "cell_type": "code",
      "source": [
        "previsoes = knn_modelc.predict(X_dados_test)\n",
        "previsoes"
      ],
      "metadata": {
        "colab": {
          "base_uri": "https://localhost:8080/"
        },
        "id": "GOeek73n2Bvn",
        "outputId": "56de0a72-2a87-4a55-e39f-72f58d022922"
      },
      "execution_count": 3262,
      "outputs": [
        {
          "output_type": "execute_result",
          "data": {
            "text/plain": [
              "array(['II', 'II', 'II', 'II', 'II', 'IV', 'II', 'III', 'II', 'II', 'II',\n",
              "       'II', 'II', 'II', 'II', 'II', 'II', 'III', 'II', 'III', 'III',\n",
              "       'II', 'II', 'III', 'II', 'I', 'II', 'III', 'I', 'III', 'II', 'II',\n",
              "       'II', 'II', 'III', 'II', 'II', 'III', 'III', 'III'], dtype=object)"
            ]
          },
          "metadata": {},
          "execution_count": 3262
        }
      ]
    },
    {
      "cell_type": "code",
      "source": [
        "y_dados_test"
      ],
      "metadata": {
        "colab": {
          "base_uri": "https://localhost:8080/"
        },
        "id": "xqMsiFQe2HUp",
        "outputId": "ffabdd69-aad8-4ba7-c59d-0e90bb835ecd"
      },
      "execution_count": 3263,
      "outputs": [
        {
          "output_type": "execute_result",
          "data": {
            "text/plain": [
              "array(['II', 'III', 'III', 'II', 'III', 'IV', 'I', 'III', 'I', 'III',\n",
              "       'II', 'III', 'III', 'III', 'II', 'I', 'II', 'III', 'II', 'II',\n",
              "       'III', 'III', 'II', 'III', 'II', 'III', 'IV', 'IV', 'II', 'II',\n",
              "       'II', 'II', 'II', 'III', 'II', 'IV', 'III', 'I', 'III', 'IV'],\n",
              "      dtype=object)"
            ]
          },
          "metadata": {},
          "execution_count": 3263
        }
      ]
    },
    {
      "cell_type": "code",
      "source": [
        "from sklearn.metrics import accuracy_score, classification_report\n",
        "accuracy_score(y_dados_test, previsoes) # padronização"
      ],
      "metadata": {
        "colab": {
          "base_uri": "https://localhost:8080/"
        },
        "id": "quZRHK2u2bLa",
        "outputId": "15d8a08b-4b08-4807-8a88-53264e1521a5"
      },
      "execution_count": 3264,
      "outputs": [
        {
          "output_type": "execute_result",
          "data": {
            "text/plain": [
              "0.425"
            ]
          },
          "metadata": {},
          "execution_count": 3264
        }
      ]
    },
    {
      "cell_type": "code",
      "source": [
        "from yellowbrick.classifier import ConfusionMatrix\n",
        "cm = ConfusionMatrix(knn_modelc)\n",
        "cm.fit(X_dados_train, y_dados_train)\n",
        "cm.score(X_dados_test, y_dados_test)"
      ],
      "metadata": {
        "colab": {
          "base_uri": "https://localhost:8080/",
          "height": 365
        },
        "id": "B_83NeoZ2hqy",
        "outputId": "f9f1c954-8f3a-4dab-96e7-97a034229687"
      },
      "execution_count": 3265,
      "outputs": [
        {
          "output_type": "execute_result",
          "data": {
            "text/plain": [
              "0.425"
            ]
          },
          "metadata": {},
          "execution_count": 3265
        },
        {
          "output_type": "display_data",
          "data": {
            "text/plain": [
              "<Figure size 576x396 with 1 Axes>"
            ],
            "image/png": "[encoded data removed]"
          },
          "metadata": {}
        }
      ]
    },
    {
      "cell_type": "code",
      "source": [
        "print(classification_report(y_dados_test, previsoes))"
      ],
      "metadata": {
        "colab": {
          "base_uri": "https://localhost:8080/"
        },
        "id": "oR39rip5M1l7",
        "outputId": "dc56957f-62df-42df-fafe-3c56fe5c31c7"
      },
      "execution_count": 3266,
      "outputs": [
        {
          "output_type": "stream",
          "name": "stdout",
          "text": [
            "              precision    recall  f1-score   support\n",
            "\n",
            "           I       0.00      0.00      0.00         4\n",
            "          II       0.42      0.73      0.54        15\n",
            "         III       0.45      0.31      0.37        16\n",
            "          IV       1.00      0.20      0.33         5\n",
            "\n",
            "    accuracy                           0.42        40\n",
            "   macro avg       0.47      0.31      0.31        40\n",
            "weighted avg       0.47      0.42      0.39        40\n",
            "\n"
          ]
        }
      ]
    },
    {
      "cell_type": "markdown",
      "source": [
        "# **02. KnnClassifier**{*Balanced*}0.608"
      ],
      "metadata": {
        "id": "GxNIeiRc38K-"
      }
    },
    {
      "cell_type": "code",
      "source": [
        "#PREPARAR OS DADOS ==> Importar e tratar os dados\n",
        "import pandas as pd\n",
        "\n",
        "# Importando o Arquivo\n",
        "dados = pd.read_csv(\"dataMODIFICADOv10F.csv\", sep=\",\")\n",
        "\n",
        "#Transformando os nulos para 0\n",
        "dados = dados.fillna(1, inplace= False) \n",
        "\n",
        "#Separando as variaveis de interesse | sex\tage\tLYVE1\tREG1B\tTFF1\tcreatinine\tplasma_CA19_9\tREG1A\t\n",
        "X_dados = dados.iloc[:,5:13].values\n",
        "X_dados \n",
        "\n",
        "#Separando a classe alvo | stage2\n",
        "y_dados = dados.iloc[:,13].values\n",
        "y_dados\n",
        "\n",
        "# Tratando as colunas que São rotulos | sex\n",
        "from sklearn.preprocessing import LabelEncoder\n",
        "\n",
        "label_encoder_sex = LabelEncoder()\n",
        "X_dados[:,0] = label_encoder_sex.fit_transform(X_dados[:,0])\n",
        "X_dados\n",
        "\n",
        "# Sobreamostragem com SMOTE\n",
        "from imblearn.over_sampling import SMOTE\n",
        "import numpy as np\n",
        "\n",
        "smote = SMOTE(sampling_strategy='not majority', random_state=3)\n",
        "X_over, y_over = smote.fit_resample(X_dados, y_dados)\n",
        "\n",
        "#y_over.shape, X_over.shape\n",
        "np.unique(y_dados, return_counts = True), np.unique(y_over, return_counts = True)\n",
        "\n",
        "import seaborn as sns\n",
        "sns.countplot(x = y_over);\n",
        "\n",
        "from sklearn.preprocessing import OneHotEncoder\n",
        "from sklearn.compose import ColumnTransformer\n",
        "onehotencorder = ColumnTransformer(transformers=[(\"OneHot\", OneHotEncoder(), [0])],remainder='passthrough')\n",
        "X_dados = onehotencorder.fit_transform(X_over).toarray()\n",
        "\n",
        "#X_dados, X_dados.shape\n",
        "\n",
        "#ESCALONAMENTO DE ATRIBUTOS\n",
        "from sklearn.preprocessing import StandardScaler\n",
        "scaler_dados = StandardScaler()\n",
        "X_dados = scaler_dados.fit_transform(X_dados)\n",
        "X_dados\n",
        "\n",
        "#Separação dos dados BALANCEADOS\n",
        "from sklearn.model_selection import train_test_split\n",
        "\n",
        "X_dados_train_over, X_dados_test_over, y_dados_train_over, y_dados_test_over = train_test_split(X_dados, y_over, test_size=0.2, random_state=0)\n",
        "X_dados_train_over.shape, X_dados_test_over.shape\n"
      ],
      "metadata": {
        "colab": {
          "base_uri": "https://localhost:8080/",
          "height": 364
        },
        "id": "CwwGe_q00-iH",
        "outputId": "42c226bc-c465-4d1f-f76a-5fc284f89fb4"
      },
      "execution_count": 3267,
      "outputs": [
        {
          "output_type": "execute_result",
          "data": {
            "text/plain": [
              "((275, 82), (69, 82))"
            ]
          },
          "metadata": {},
          "execution_count": 3267
        },
        {
          "output_type": "display_data",
          "data": {
            "text/plain": [
              "<Figure size 576x396 with 1 Axes>"
            ],
            "image/png": "[encoded data removed]"
          },
          "metadata": {}
        }
      ]
    },
    {
      "cell_type": "code",
      "source": [
        "#Knn Classifier Balanced\n",
        "\n",
        "from sklearn.neighbors import KNeighborsClassifier\n",
        "from sklearn.metrics import classification_report, confusion_matrix,plot_confusion_matrix\n",
        "from sklearn.preprocessing import StandardScaler"
      ],
      "metadata": {
        "id": "xgu8W9dd4CM-"
      },
      "execution_count": 3268,
      "outputs": []
    },
    {
      "cell_type": "code",
      "source": [
        "knn_modelcb = KNeighborsClassifier(n_neighbors=5, metric='minkowski', p = 2)\n",
        "knn_modelcb.fit(X_dados_train_over, y_dados_train_over)"
      ],
      "metadata": {
        "colab": {
          "base_uri": "https://localhost:8080/"
        },
        "id": "oSDZkndO4Jhk",
        "outputId": "fbaea92a-ac2b-4703-a972-264f66c70589"
      },
      "execution_count": 3269,
      "outputs": [
        {
          "output_type": "execute_result",
          "data": {
            "text/plain": [
              "KNeighborsClassifier()"
            ]
          },
          "metadata": {},
          "execution_count": 3269
        }
      ]
    },
    {
      "cell_type": "code",
      "source": [
        "previsoes = knn_modelcb.predict(X_dados_test_over)\n",
        "previsoes"
      ],
      "metadata": {
        "colab": {
          "base_uri": "https://localhost:8080/"
        },
        "id": "xuAla1qJ4OzT",
        "outputId": "f2d515fa-a64c-4d92-b08f-8dea9e9d7b8c"
      },
      "execution_count": 3270,
      "outputs": [
        {
          "output_type": "execute_result",
          "data": {
            "text/plain": [
              "array(['I', 'II', 'II', 'I', 'I', 'IV', 'IV', 'I', 'I', 'I', 'I', 'II',\n",
              "       'III', 'II', 'I', 'II', 'III', 'I', 'II', 'III', 'IV', 'II', 'I',\n",
              "       'III', 'I', 'I', 'III', 'I', 'II', 'I', 'I', 'IV', 'III', 'III',\n",
              "       'III', 'I', 'IV', 'IV', 'II', 'II', 'II', 'III', 'I', 'IV', 'IV',\n",
              "       'I', 'IV', 'III', 'IV', 'I', 'II', 'II', 'II', 'IV', 'III', 'I',\n",
              "       'III', 'III', 'I', 'I', 'II', 'II', 'I', 'IV', 'I', 'IV', 'II',\n",
              "       'I', 'IV'], dtype=object)"
            ]
          },
          "metadata": {},
          "execution_count": 3270
        }
      ]
    },
    {
      "cell_type": "code",
      "source": [
        "y_dados_test_over"
      ],
      "metadata": {
        "colab": {
          "base_uri": "https://localhost:8080/"
        },
        "id": "gxPUcax-4WcN",
        "outputId": "b9d345ec-86b5-4e3a-963f-8a34f45b7784"
      },
      "execution_count": 3271,
      "outputs": [
        {
          "output_type": "execute_result",
          "data": {
            "text/plain": [
              "array(['III', 'I', 'II', 'I', 'II', 'IV', 'III', 'I', 'I', 'II', 'II',\n",
              "       'I', 'III', 'IV', 'I', 'II', 'II', 'I', 'II', 'I', 'IV', 'II', 'I',\n",
              "       'III', 'I', 'I', 'III', 'II', 'II', 'I', 'I', 'IV', 'II', 'II',\n",
              "       'III', 'IV', 'IV', 'III', 'II', 'II', 'III', 'II', 'II', 'IV',\n",
              "       'IV', 'I', 'IV', 'IV', 'III', 'I', 'II', 'II', 'III', 'III', 'III',\n",
              "       'I', 'II', 'IV', 'I', 'I', 'I', 'IV', 'II', 'IV', 'I', 'IV', 'II',\n",
              "       'I', 'IV'], dtype=object)"
            ]
          },
          "metadata": {},
          "execution_count": 3271
        }
      ]
    },
    {
      "cell_type": "code",
      "source": [
        "from sklearn.metrics import accuracy_score, classification_report\n",
        "accuracy_score(y_dados_test_over, previsoes) # padronização"
      ],
      "metadata": {
        "colab": {
          "base_uri": "https://localhost:8080/"
        },
        "id": "0oEpDH1B4fXU",
        "outputId": "778a0235-1af2-41cb-b44d-ec94f835eb4b"
      },
      "execution_count": 3272,
      "outputs": [
        {
          "output_type": "execute_result",
          "data": {
            "text/plain": [
              "0.6086956521739131"
            ]
          },
          "metadata": {},
          "execution_count": 3272
        }
      ]
    },
    {
      "cell_type": "code",
      "source": [
        "from yellowbrick.classifier import ConfusionMatrix\n",
        "cm = ConfusionMatrix(knn_modelcb)\n",
        "cm.fit(X_dados_train_over, y_dados_train_over)\n",
        "cm.score(X_dados_test_over, y_dados_test_over)"
      ],
      "metadata": {
        "colab": {
          "base_uri": "https://localhost:8080/",
          "height": 365
        },
        "id": "SfGBugCG4i4k",
        "outputId": "1bbb806f-abb2-4457-e207-ca27d8c2353c"
      },
      "execution_count": 3273,
      "outputs": [
        {
          "output_type": "execute_result",
          "data": {
            "text/plain": [
              "0.6086956521739131"
            ]
          },
          "metadata": {},
          "execution_count": 3273
        },
        {
          "output_type": "display_data",
          "data": {
            "text/plain": [
              "<Figure size 576x396 with 1 Axes>"
            ],
            "image/png": "[encoded data removed]"
          },
          "metadata": {}
        }
      ]
    },
    {
      "cell_type": "code",
      "source": [
        "print(classification_report(y_dados_test_over, previsoes))"
      ],
      "metadata": {
        "colab": {
          "base_uri": "https://localhost:8080/"
        },
        "id": "gD14FObh-k1C",
        "outputId": "94fc8781-026f-4538-da35-082183603749"
      },
      "execution_count": 3274,
      "outputs": [
        {
          "output_type": "stream",
          "name": "stdout",
          "text": [
            "              precision    recall  f1-score   support\n",
            "\n",
            "           I       0.68      0.81      0.74        21\n",
            "          II       0.59      0.48      0.53        21\n",
            "         III       0.38      0.42      0.40        12\n",
            "          IV       0.71      0.67      0.69        15\n",
            "\n",
            "    accuracy                           0.61        69\n",
            "   macro avg       0.59      0.59      0.59        69\n",
            "weighted avg       0.61      0.61      0.60        69\n",
            "\n"
          ]
        }
      ]
    },
    {
      "cell_type": "markdown",
      "source": [
        "# **03. RandomForestClassifier**{*Unbalanced*} => 0.575"
      ],
      "metadata": {
        "id": "FCedH6fgrYrl"
      }
    },
    {
      "cell_type": "code",
      "source": [
        "#PREPARAR OS DADOS ==> Importar e tratar os dados\n",
        "import pandas as pd\n",
        "\n",
        "# Importando o Arquivo\n",
        "dados = pd.read_csv(\"dataMODIFICADOv10F.csv\", sep=\",\")\n",
        "\n",
        "#Transformando os nulos para 0\n",
        "dados = dados.fillna(1, inplace= False) \n",
        "\n",
        "#Separando as variaveis de interesse | sex\tage\tLYVE1\tREG1B\tTFF1\tcreatinine\tplasma_CA19_9\tREG1A\t\n",
        "X_dados = dados.iloc[:,5:13].values\n",
        "X_dados \n",
        "\n",
        "#Separando a classe alvo | stage2\n",
        "y_dados = dados.iloc[:,13].values\n",
        "y_dados\n",
        "\n",
        "# Tratando as colunas que São rotulos | sex\n",
        "from sklearn.preprocessing import LabelEncoder\n",
        "\n",
        "label_encoder_sex = LabelEncoder()\n",
        "X_dados[:,0] = label_encoder_sex.fit_transform(X_dados[:,0])\n",
        "X_dados\n",
        "\n",
        "#Onehot\n",
        "from sklearn.preprocessing import OneHotEncoder\n",
        "from sklearn.compose import ColumnTransformer\n",
        "\n",
        "onehotencorder = ColumnTransformer(transformers=[(\"OneHot\", OneHotEncoder(), [0])],remainder='passthrough')\n",
        "X_dados = onehotencorder.fit_transform(X_dados)\n",
        "X_dados\n",
        "\n",
        "#ESCALONAMENTO DE ATRIBUTOS\n",
        "from sklearn.preprocessing import StandardScaler\n",
        "scaler_dados = StandardScaler()\n",
        "X_dados = scaler_dados.fit_transform(X_dados)\n",
        "\n",
        "\n",
        "#Separação dos dados SEM o balanceamento\n",
        "from sklearn.model_selection import train_test_split\n",
        "\n",
        "X_dados_train , X_dados_test, y_dados_train, y_dados_test = train_test_split(X_dados, y_dados, test_size=0.2, random_state=0)\n",
        "X_dados_train.shape, X_dados_test.shape\n",
        "X_random_forest_dados_sb_teste = X_dados_test\n",
        "y_random_forest_dados_sb_teste = y_dados_test"
      ],
      "metadata": {
        "id": "3HHihyrfzx_2"
      },
      "execution_count": 3275,
      "outputs": []
    },
    {
      "cell_type": "code",
      "source": [
        "#RANDOM FOREST CLASSIFIER\n",
        "\n",
        "from sklearn.ensemble import RandomForestClassifier\n",
        "random_forest_dados_sb = RandomForestClassifier(criterion = 'entropy', min_samples_leaf =  1, min_samples_split = 5, n_estimators = 200, random_state=0)\n",
        "random_forest_dados_sb.fit(X_dados_train, y_dados_train)\n"
      ],
      "metadata": {
        "colab": {
          "base_uri": "https://localhost:8080/"
        },
        "id": "wy4wTtNjpddq",
        "outputId": "b077f102-4b84-4923-b4b0-5d223f08902a"
      },
      "execution_count": 3276,
      "outputs": [
        {
          "output_type": "execute_result",
          "data": {
            "text/plain": [
              "RandomForestClassifier(criterion='entropy', min_samples_split=5,\n",
              "                       n_estimators=200, random_state=0)"
            ]
          },
          "metadata": {},
          "execution_count": 3276
        }
      ]
    },
    {
      "cell_type": "code",
      "source": [
        "from sklearn.metrics import accuracy_score, classification_report\n",
        "previsoes = random_forest_dados_sb.predict(X_dados_test)\n",
        "accuracy_score(y_dados_test, previsoes)"
      ],
      "metadata": {
        "colab": {
          "base_uri": "https://localhost:8080/"
        },
        "id": "9aSjYsgjpfnq",
        "outputId": "eebb34ed-048c-42d9-a64d-653f25431709"
      },
      "execution_count": 3277,
      "outputs": [
        {
          "output_type": "execute_result",
          "data": {
            "text/plain": [
              "0.575"
            ]
          },
          "metadata": {},
          "execution_count": 3277
        }
      ]
    },
    {
      "cell_type": "code",
      "source": [
        "from yellowbrick.classifier import ConfusionMatrix\n",
        "cm = ConfusionMatrix(random_forest_dados_sb)\n",
        "cm.fit(X_dados_train, y_dados_train)\n",
        "cm.score(X_dados_test, y_dados_test)"
      ],
      "metadata": {
        "colab": {
          "base_uri": "https://localhost:8080/",
          "height": 365
        },
        "id": "eHgFQP97OXd1",
        "outputId": "59d73dd5-4825-40b8-cec7-7339fb450760"
      },
      "execution_count": 3278,
      "outputs": [
        {
          "output_type": "execute_result",
          "data": {
            "text/plain": [
              "0.575"
            ]
          },
          "metadata": {},
          "execution_count": 3278
        },
        {
          "output_type": "display_data",
          "data": {
            "text/plain": [
              "<Figure size 576x396 with 1 Axes>"
            ],
            "image/png": "[encoded data removed]"
          },
          "metadata": {}
        }
      ]
    },
    {
      "cell_type": "code",
      "source": [
        "print(classification_report(y_dados_test, previsoes))"
      ],
      "metadata": {
        "colab": {
          "base_uri": "https://localhost:8080/"
        },
        "id": "84lzPMPDrsyJ",
        "outputId": "6471593d-bd06-446b-ce49-86306d623f71"
      },
      "execution_count": 3279,
      "outputs": [
        {
          "output_type": "stream",
          "name": "stdout",
          "text": [
            "              precision    recall  f1-score   support\n",
            "\n",
            "           I       0.50      0.25      0.33         4\n",
            "          II       0.50      0.80      0.62        15\n",
            "         III       0.67      0.50      0.57        16\n",
            "          IV       1.00      0.40      0.57         5\n",
            "\n",
            "    accuracy                           0.57        40\n",
            "   macro avg       0.67      0.49      0.52        40\n",
            "weighted avg       0.63      0.57      0.56        40\n",
            "\n"
          ]
        }
      ]
    },
    {
      "cell_type": "markdown",
      "source": [
        "# ***04. RandomForestClassifier***{Balanced} => 0.81"
      ],
      "metadata": {
        "id": "XxgyPNGX3ylI"
      }
    },
    {
      "cell_type": "code",
      "source": [
        "#PREPARAR OS DADOS ==> Importar e tratar os dados\n",
        "import pandas as pd\n",
        "\n",
        "# Importando o Arquivo\n",
        "dados = pd.read_csv(\"dataMODIFICADOv10F.csv\", sep=\",\")\n",
        "\n",
        "#Transformando os nulos para 0\n",
        "dados = dados.fillna(1, inplace= False) \n",
        "\n",
        "#Separando as variaveis de interesse | sex\tage\tLYVE1\tREG1B\tTFF1\tcreatinine\tplasma_CA19_9\tREG1A\t\n",
        "X_dados = dados.iloc[:,5:13].values\n",
        "X_dados \n",
        "\n",
        "#Separando a classe alvo | stage2\n",
        "y_dados = dados.iloc[:,13].values\n",
        "y_dados\n",
        "\n",
        "# Tratando as colunas que São rotulos | sex\n",
        "from sklearn.preprocessing import LabelEncoder\n",
        "\n",
        "label_encoder_sex = LabelEncoder()\n",
        "X_dados[:,0] = label_encoder_sex.fit_transform(X_dados[:,0])\n",
        "X_dados\n",
        "\n",
        "# Sobreamostragem com SMOTE\n",
        "\n",
        "from imblearn.over_sampling import SMOTE\n",
        "smote = SMOTE(sampling_strategy='not majority', random_state=29)\n",
        "#9  0.7971014492753623\n",
        "\n",
        "X_over, y_over = smote.fit_resample(X_dados, y_dados)\n",
        "\n",
        "#y_over.shape, X_over.shape\n",
        "np.unique(y_dados, return_counts = True), np.unique(y_over, return_counts = True)\n",
        "\n",
        "import seaborn as sns\n",
        "sns.countplot(x = y_over);\n",
        "\n",
        "from sklearn.preprocessing import OneHotEncoder\n",
        "from sklearn.compose import ColumnTransformer\n",
        "onehotencorder = ColumnTransformer(transformers=[(\"OneHot\", OneHotEncoder(), [0])],remainder='passthrough')\n",
        "X_dados = onehotencorder.fit_transform(X_over).toarray()\n",
        "\n",
        "#X_dados, X_dados.shape\n",
        "\n",
        "#ESCALONAMENTO DE ATRIBUTOS\n",
        "from sklearn.preprocessing import StandardScaler\n",
        "scaler_dados = StandardScaler()\n",
        "X_dados = scaler_dados.fit_transform(X_dados)\n",
        "X_dados\n",
        "\n",
        "#Separação dos dados BALANCEADOS\n",
        "from sklearn.model_selection import train_test_split\n",
        "\n",
        "X_dados_train_over, X_dados_test_over, y_dados_train_over, y_dados_test_over = train_test_split(X_dados, y_over, test_size=0.2, random_state=0)\n",
        "X_dados_train_over.shape, X_dados_test_over.shape\n"
      ],
      "metadata": {
        "colab": {
          "base_uri": "https://localhost:8080/",
          "height": 0
        },
        "id": "klf-LVhMNGjc",
        "outputId": "13a7815a-4996-4b36-decb-a4b0342deee0"
      },
      "execution_count": 3280,
      "outputs": [
        {
          "output_type": "execute_result",
          "data": {
            "text/plain": [
              "((275, 92), (69, 92))"
            ]
          },
          "metadata": {},
          "execution_count": 3280
        },
        {
          "output_type": "display_data",
          "data": {
            "text/plain": [
              "<Figure size 576x396 with 1 Axes>"
            ],
            "image/png": "[encoded data removed]"
          },
          "metadata": {}
        }
      ]
    },
    {
      "cell_type": "code",
      "source": [
        "from sklearn.ensemble import RandomForestClassifier #1,6,300,10 -->0.681 | 1,5,200, 17 -->0.8115942028985508\n",
        "\n",
        "random_forest_dados = RandomForestClassifier(criterion = 'entropy', min_samples_leaf =  1, min_samples_split = 5, n_estimators = 200, random_state = 17 )\n",
        "random_forest_dados.fit(X_dados_train_over, y_dados_train_over)"
      ],
      "metadata": {
        "colab": {
          "base_uri": "https://localhost:8080/"
        },
        "id": "yxwaoRK8kpEy",
        "outputId": "231e0a35-0dc0-4dca-a7d7-46437506b9bc"
      },
      "execution_count": 3281,
      "outputs": [
        {
          "output_type": "execute_result",
          "data": {
            "text/plain": [
              "RandomForestClassifier(criterion='entropy', min_samples_split=5,\n",
              "                       n_estimators=200, random_state=17)"
            ]
          },
          "metadata": {},
          "execution_count": 3281
        }
      ]
    },
    {
      "cell_type": "code",
      "source": [
        "from sklearn.metrics import accuracy_score, classification_report\n",
        "previsoes = random_forest_dados.predict(X_dados_test_over)\n",
        "accuracy_score(y_dados_test_over, previsoes)"
      ],
      "metadata": {
        "colab": {
          "base_uri": "https://localhost:8080/"
        },
        "id": "WN5s6LAnlC4f",
        "outputId": "9a2c396f-a748-4d3d-f8b5-633f92c86554"
      },
      "execution_count": 3282,
      "outputs": [
        {
          "output_type": "execute_result",
          "data": {
            "text/plain": [
              "0.8115942028985508"
            ]
          },
          "metadata": {},
          "execution_count": 3282
        }
      ]
    },
    {
      "cell_type": "code",
      "source": [
        "from yellowbrick.classifier import ConfusionMatrix\n",
        "cm = ConfusionMatrix(random_forest_dados)\n",
        "cm.fit(X_dados_train_over, y_dados_train_over)\n",
        "cm.score(X_dados_test_over, y_dados_test_over)"
      ],
      "metadata": {
        "colab": {
          "base_uri": "https://localhost:8080/",
          "height": 0
        },
        "id": "RqKVj-EzbWyg",
        "outputId": "2b0e3208-2ca0-45bf-a0e2-a65a61ec4e83"
      },
      "execution_count": 3283,
      "outputs": [
        {
          "output_type": "execute_result",
          "data": {
            "text/plain": [
              "0.8115942028985508"
            ]
          },
          "metadata": {},
          "execution_count": 3283
        },
        {
          "output_type": "display_data",
          "data": {
            "text/plain": [
              "<Figure size 576x396 with 1 Axes>"
            ],
            "image/png": "[encoded data removed]"
          },
          "metadata": {}
        }
      ]
    },
    {
      "cell_type": "code",
      "source": [
        "print(classification_report(y_dados_test_over, previsoes))"
      ],
      "metadata": {
        "colab": {
          "base_uri": "https://localhost:8080/"
        },
        "id": "0TKZldoDqWvc",
        "outputId": "e7b501ab-8784-4951-e3e9-59357953e107"
      },
      "execution_count": 3284,
      "outputs": [
        {
          "output_type": "stream",
          "name": "stdout",
          "text": [
            "              precision    recall  f1-score   support\n",
            "\n",
            "           I       0.90      0.90      0.90        21\n",
            "          II       0.80      0.57      0.67        21\n",
            "         III       0.62      0.83      0.71        12\n",
            "          IV       0.88      1.00      0.94        15\n",
            "\n",
            "    accuracy                           0.81        69\n",
            "   macro avg       0.80      0.83      0.81        69\n",
            "weighted avg       0.82      0.81      0.81        69\n",
            "\n"
          ]
        }
      ]
    },
    {
      "cell_type": "markdown",
      "source": [
        "# **05. SVM**{Unbalanced} => *0.575*, liner, 1, 1 | 0.575, sigmoid, 1, 1"
      ],
      "metadata": {
        "id": "9yYjOsLxurKB"
      }
    },
    {
      "cell_type": "code",
      "source": [
        "#PREPARAR OS DADOS ==> Importar e tratar os dados\n",
        "import pandas as pd\n",
        "\n",
        "# Importando o Arquivo\n",
        "dados = pd.read_csv(\"dataMODIFICADOv10F.csv\", sep=\",\")\n",
        "\n",
        "#Transformando os nulos para 0\n",
        "dados = dados.fillna(1, inplace= False) \n",
        "\n",
        "#Separando as variaveis de interesse | sex\tage\tLYVE1\tREG1B\tTFF1\tcreatinine\tplasma_CA19_9\tREG1A\t\n",
        "X_dados = dados.iloc[:,5:13].values\n",
        "X_dados \n",
        "\n",
        "#Separando a classe alvo | stage2\n",
        "y_dados = dados.iloc[:,13].values\n",
        "y_dados\n",
        "\n",
        "# Tratando as colunas que São rotulos | sex\n",
        "from sklearn.preprocessing import LabelEncoder\n",
        "\n",
        "label_encoder_sex = LabelEncoder()\n",
        "X_dados[:,0] = label_encoder_sex.fit_transform(X_dados[:,0])\n",
        "X_dados\n",
        "\n",
        "#Onehot\n",
        "from sklearn.preprocessing import OneHotEncoder\n",
        "from sklearn.compose import ColumnTransformer\n",
        "\n",
        "onehotencorder = ColumnTransformer(transformers=[(\"OneHot\", OneHotEncoder(), [0])],remainder='passthrough')\n",
        "X_dados = onehotencorder.fit_transform(X_dados)\n",
        "X_dados\n",
        "\n",
        "#ESCALONAMENTO DE ATRIBUTOS\n",
        "from sklearn.preprocessing import StandardScaler\n",
        "scaler_dados = StandardScaler()\n",
        "X_dados = scaler_dados.fit_transform(X_dados)\n",
        "\n",
        "\n",
        "#Separação dos dados SEM o balanceamento\n",
        "from sklearn.model_selection import train_test_split\n",
        "\n",
        "X_dados_train , X_dados_test, y_dados_train, y_dados_test = train_test_split(X_dados, y_dados, test_size=0.2, random_state=5)\n",
        "X_dados_train.shape, X_dados_test.shape\n"
      ],
      "metadata": {
        "colab": {
          "base_uri": "https://localhost:8080/"
        },
        "id": "bNOJjTeVuuQ9",
        "outputId": "c855442b-b368-4b24-b5c2-251e8b879056"
      },
      "execution_count": 3285,
      "outputs": [
        {
          "output_type": "execute_result",
          "data": {
            "text/plain": [
              "((159, 9), (40, 9))"
            ]
          },
          "metadata": {},
          "execution_count": 3285
        }
      ]
    },
    {
      "cell_type": "code",
      "source": [
        "from sklearn.svm import SVC\n"
      ],
      "metadata": {
        "id": "X9WUWevXu1Ji"
      },
      "execution_count": 3286,
      "outputs": []
    },
    {
      "cell_type": "code",
      "source": [
        "svm_dados = SVC(kernel='linear', random_state=1, C = 1.0) # 2 -> 4\n",
        "svm_dados.fit(X_dados_train, y_dados_train)"
      ],
      "metadata": {
        "colab": {
          "base_uri": "https://localhost:8080/"
        },
        "id": "4KgOs8z5xRCy",
        "outputId": "de85d8b2-d0f5-4e97-9810-135a65de869a"
      },
      "execution_count": 3287,
      "outputs": [
        {
          "output_type": "execute_result",
          "data": {
            "text/plain": [
              "SVC(kernel='linear', random_state=1)"
            ]
          },
          "metadata": {},
          "execution_count": 3287
        }
      ]
    },
    {
      "cell_type": "code",
      "source": [
        "previsoes = svm_dados.predict(X_dados_test)\n",
        "previsoes"
      ],
      "metadata": {
        "colab": {
          "base_uri": "https://localhost:8080/"
        },
        "id": "oQI1ExZNx1lg",
        "outputId": "18c1ed5b-1bb6-4acd-be2a-ebf32f96ed37"
      },
      "execution_count": 3288,
      "outputs": [
        {
          "output_type": "execute_result",
          "data": {
            "text/plain": [
              "array(['II', 'II', 'II', 'III', 'III', 'III', 'II', 'II', 'III', 'II',\n",
              "       'III', 'II', 'II', 'II', 'III', 'II', 'II', 'II', 'II', 'II', 'II',\n",
              "       'II', 'II', 'III', 'II', 'II', 'II', 'III', 'II', 'II', 'II', 'II',\n",
              "       'II', 'II', 'II', 'II', 'II', 'III', 'III', 'II'], dtype=object)"
            ]
          },
          "metadata": {},
          "execution_count": 3288
        }
      ]
    },
    {
      "cell_type": "code",
      "source": [
        "y_dados_test"
      ],
      "metadata": {
        "colab": {
          "base_uri": "https://localhost:8080/"
        },
        "id": "g3v9ZM2cx75v",
        "outputId": "a7dadd56-fa3d-4291-93fc-60192c76319c"
      },
      "execution_count": 3289,
      "outputs": [
        {
          "output_type": "execute_result",
          "data": {
            "text/plain": [
              "array(['III', 'II', 'III', 'III', 'III', 'III', 'III', 'I', 'II', 'II',\n",
              "       'IV', 'II', 'II', 'II', 'II', 'III', 'I', 'II', 'III', 'III', 'IV',\n",
              "       'II', 'II', 'III', 'II', 'II', 'III', 'II', 'II', 'II', 'II',\n",
              "       'III', 'II', 'III', 'II', 'II', 'IV', 'III', 'III', 'II'],\n",
              "      dtype=object)"
            ]
          },
          "metadata": {},
          "execution_count": 3289
        }
      ]
    },
    {
      "cell_type": "code",
      "source": [
        "from sklearn.metrics import accuracy_score, classification_report \n",
        "#0.575, liner, 1, 1 | 0.425, poly, 1, 1 | #0.475, sigmoid, 1, 1 | 0.425, rbf, 1, 1\n",
        "accuracy_score(y_dados_test, previsoes)"
      ],
      "metadata": {
        "colab": {
          "base_uri": "https://localhost:8080/"
        },
        "id": "zYhip2iXyXfx",
        "outputId": "900e4d15-7129-486d-a954-1ad165fd66c0"
      },
      "execution_count": 3290,
      "outputs": [
        {
          "output_type": "execute_result",
          "data": {
            "text/plain": [
              "0.575"
            ]
          },
          "metadata": {},
          "execution_count": 3290
        }
      ]
    },
    {
      "cell_type": "code",
      "source": [
        "from yellowbrick.classifier import ConfusionMatrix\n",
        "cm = ConfusionMatrix(svm_dados)\n",
        "cm.fit(X_dados_train, y_dados_train)\n",
        "cm.score(X_dados_test, y_dados_test)"
      ],
      "metadata": {
        "colab": {
          "base_uri": "https://localhost:8080/",
          "height": 0
        },
        "id": "9UBNKPkfyphA",
        "outputId": "936f7f3f-8b9c-4cee-a836-7fb04f659234"
      },
      "execution_count": 3291,
      "outputs": [
        {
          "output_type": "execute_result",
          "data": {
            "text/plain": [
              "0.575"
            ]
          },
          "metadata": {},
          "execution_count": 3291
        },
        {
          "output_type": "display_data",
          "data": {
            "text/plain": [
              "<Figure size 576x396 with 1 Axes>"
            ],
            "image/png": "[encoded data removed]"
          },
          "metadata": {}
        }
      ]
    },
    {
      "cell_type": "code",
      "source": [
        "print(classification_report(y_dados_test, previsoes))"
      ],
      "metadata": {
        "colab": {
          "base_uri": "https://localhost:8080/"
        },
        "id": "-eHUclVryrvL",
        "outputId": "521eb009-975c-4040-baa1-d43e63104f0a"
      },
      "execution_count": 3292,
      "outputs": [
        {
          "output_type": "stream",
          "name": "stdout",
          "text": [
            "              precision    recall  f1-score   support\n",
            "\n",
            "           I       0.00      0.00      0.00         2\n",
            "          II       0.57      0.85      0.68        20\n",
            "         III       0.60      0.40      0.48        15\n",
            "          IV       0.00      0.00      0.00         3\n",
            "\n",
            "    accuracy                           0.57        40\n",
            "   macro avg       0.29      0.31      0.29        40\n",
            "weighted avg       0.51      0.57      0.52        40\n",
            "\n"
          ]
        },
        {
          "output_type": "stream",
          "name": "stderr",
          "text": [
            "/usr/local/lib/python3.7/dist-packages/sklearn/metrics/_classification.py:1318: UndefinedMetricWarning:\n",
            "\n",
            "Precision and F-score are ill-defined and being set to 0.0 in labels with no predicted samples. Use `zero_division` parameter to control this behavior.\n",
            "\n",
            "/usr/local/lib/python3.7/dist-packages/sklearn/metrics/_classification.py:1318: UndefinedMetricWarning:\n",
            "\n",
            "Precision and F-score are ill-defined and being set to 0.0 in labels with no predicted samples. Use `zero_division` parameter to control this behavior.\n",
            "\n",
            "/usr/local/lib/python3.7/dist-packages/sklearn/metrics/_classification.py:1318: UndefinedMetricWarning:\n",
            "\n",
            "Precision and F-score are ill-defined and being set to 0.0 in labels with no predicted samples. Use `zero_division` parameter to control this behavior.\n",
            "\n"
          ]
        }
      ]
    },
    {
      "cell_type": "markdown",
      "source": [
        "# **06. SVM**{Balanced} => 0.579, linear, 0, 10 |"
      ],
      "metadata": {
        "id": "eGoD2mIZ2fLc"
      }
    },
    {
      "cell_type": "code",
      "source": [
        "#PREPARAR OS DADOS ==> Importar e tratar os dados\n",
        "import pandas as pd\n",
        "\n",
        "\n",
        "# Importando o Arquivo\n",
        "dados = pd.read_csv(\"dataMODIFICADOv10F.csv\", sep=\",\")\n",
        "\n",
        "#Transformando os nulos para 0\n",
        "dados = dados.fillna(1, inplace= False) \n",
        "\n",
        "#Separando as variaveis de interesse | sex\tage\tLYVE1\tREG1B\tTFF1\tcreatinine\tplasma_CA19_9\tREG1A\t\n",
        "X_dados = dados.iloc[:,5:13].values\n",
        "X_dados \n",
        "\n",
        "#Separando a classe alvo | stage2\n",
        "y_dados = dados.iloc[:,13].values\n",
        "y_dados\n",
        "\n",
        "# Tratando as colunas que São rotulos | sex\n",
        "from sklearn.preprocessing import LabelEncoder\n",
        "\n",
        "label_encoder_sex = LabelEncoder()\n",
        "X_dados[:,0] = label_encoder_sex.fit_transform(X_dados[:,0])\n",
        "X_dados\n",
        "\n",
        "# Sobreamostragem com SMOTE\n",
        "\n",
        "from imblearn.over_sampling import SMOTE\n",
        "import numpy as np\n",
        "\n",
        "lista = []\n",
        "count = 1\n",
        "\n",
        "smote = SMOTE(sampling_strategy='not majority', random_state=16)\n",
        "#2 - 47\n",
        "X_over, y_over = smote.fit_resample(X_dados, y_dados)\n",
        "\n",
        "#y_over.shape, X_over.shape\n",
        "\n",
        "np.unique(y_dados, return_counts = True), np.unique(y_over, return_counts = True)\n",
        "\n",
        "import seaborn as sns\n",
        "sns.countplot(x = y_over);\n",
        "\n",
        "from sklearn.preprocessing import OneHotEncoder\n",
        "from sklearn.compose import ColumnTransformer\n",
        "onehotencorder = ColumnTransformer(transformers=[(\"OneHot\", OneHotEncoder(), [0])],remainder='passthrough')\n",
        "X_dados = onehotencorder.fit_transform(X_over).toarray()\n",
        "\n",
        "#X_dados, X_dados.shape\n",
        "\n",
        "#ESCALONAMENTO DE ATRIBUTOS\n",
        "from sklearn.preprocessing import StandardScaler\n",
        "scaler_dados = StandardScaler()\n",
        "X_dados = scaler_dados.fit_transform(X_dados)\n",
        "X_dados\n",
        "\n",
        "#Separação dos dados BALANCEADOS\n",
        "from sklearn.model_selection import train_test_split\n",
        "\n",
        "X_dados_train_over, X_dados_test_over, y_dados_train_over, y_dados_test_over = train_test_split(X_dados, y_over, test_size=0.2, random_state=1)\n",
        "X_dados_train_over.shape, X_dados_test_over.shape\n",
        "np.unique(y_dados, return_counts = True), np.unique(y_over, return_counts = True)\n"
      ],
      "metadata": {
        "colab": {
          "base_uri": "https://localhost:8080/",
          "height": 0
        },
        "id": "mt8qMixm2pkD",
        "outputId": "7dee708d-aa65-488a-8130-fbdef57ce239"
      },
      "execution_count": 3293,
      "outputs": [
        {
          "output_type": "execute_result",
          "data": {
            "text/plain": [
              "((array(['I', 'II', 'III', 'IV'], dtype=object), array([16, 86, 76, 21])),\n",
              " (array(['I', 'II', 'III', 'IV'], dtype=object), array([86, 86, 86, 86])))"
            ]
          },
          "metadata": {},
          "execution_count": 3293
        },
        {
          "output_type": "display_data",
          "data": {
            "text/plain": [
              "<Figure size 576x396 with 1 Axes>"
            ],
            "image/png": "[encoded data removed]"
          },
          "metadata": {}
        }
      ]
    },
    {
      "cell_type": "code",
      "source": [
        "from sklearn.svm import SVC"
      ],
      "metadata": {
        "id": "4KssgckW2rDb"
      },
      "execution_count": 3294,
      "outputs": []
    },
    {
      "cell_type": "code",
      "source": [
        "svm_dados = SVC(kernel='linear', random_state=0, C = 10.0) # 2 -> 4\n",
        "svm_dados.fit(X_dados_train_over, y_dados_train_over)"
      ],
      "metadata": {
        "colab": {
          "base_uri": "https://localhost:8080/"
        },
        "id": "7BIssZnS2xeH",
        "outputId": "71fe8d05-ea92-43d1-96d2-079c5f1b5e63"
      },
      "execution_count": 3295,
      "outputs": [
        {
          "output_type": "execute_result",
          "data": {
            "text/plain": [
              "SVC(C=10.0, kernel='linear', random_state=0)"
            ]
          },
          "metadata": {},
          "execution_count": 3295
        }
      ]
    },
    {
      "cell_type": "code",
      "source": [
        "previsoes = svm_dados.predict(X_dados_test_over)\n",
        "previsoes"
      ],
      "metadata": {
        "colab": {
          "base_uri": "https://localhost:8080/"
        },
        "id": "JZVS5Mb520X0",
        "outputId": "702139ab-12d5-41ba-bded-fb4dc813f889"
      },
      "execution_count": 3296,
      "outputs": [
        {
          "output_type": "execute_result",
          "data": {
            "text/plain": [
              "array(['IV', 'IV', 'IV', 'III', 'II', 'I', 'I', 'II', 'IV', 'I', 'I',\n",
              "       'IV', 'IV', 'I', 'II', 'II', 'III', 'III', 'II', 'II', 'I', 'I',\n",
              "       'IV', 'IV', 'III', 'I', 'IV', 'II', 'IV', 'II', 'I', 'II', 'I',\n",
              "       'III', 'IV', 'III', 'III', 'IV', 'III', 'II', 'II', 'IV', 'II',\n",
              "       'I', 'III', 'III', 'II', 'IV', 'IV', 'III', 'III', 'III', 'I',\n",
              "       'II', 'III', 'I', 'IV', 'IV', 'II', 'I', 'I', 'II', 'IV', 'IV',\n",
              "       'II', 'I', 'II', 'I', 'II'], dtype=object)"
            ]
          },
          "metadata": {},
          "execution_count": 3296
        }
      ]
    },
    {
      "cell_type": "markdown",
      "source": [],
      "metadata": {
        "id": "-9aW3zZwfysq"
      }
    },
    {
      "cell_type": "code",
      "source": [
        "y_dados_test_over"
      ],
      "metadata": {
        "colab": {
          "base_uri": "https://localhost:8080/"
        },
        "id": "BVeDKDbg26hm",
        "outputId": "0b7680ea-1204-4dab-8eb1-4793d6811803"
      },
      "execution_count": 3297,
      "outputs": [
        {
          "output_type": "execute_result",
          "data": {
            "text/plain": [
              "array(['IV', 'IV', 'IV', 'III', 'IV', 'I', 'III', 'I', 'III', 'I', 'III',\n",
              "       'I', 'IV', 'III', 'II', 'II', 'I', 'I', 'II', 'II', 'I', 'I', 'IV',\n",
              "       'IV', 'II', 'I', 'I', 'III', 'IV', 'II', 'III', 'III', 'I', 'III',\n",
              "       'III', 'III', 'III', 'II', 'IV', 'II', 'II', 'III', 'III', 'I',\n",
              "       'IV', 'I', 'III', 'IV', 'IV', 'III', 'III', 'IV', 'III', 'III',\n",
              "       'IV', 'I', 'IV', 'II', 'II', 'I', 'III', 'II', 'IV', 'IV', 'II',\n",
              "       'II', 'II', 'I', 'II'], dtype=object)"
            ]
          },
          "metadata": {},
          "execution_count": 3297
        }
      ]
    },
    {
      "cell_type": "code",
      "source": [
        "from sklearn.metrics import accuracy_score, classification_report \n",
        "#0.475, liner, 1, 1 | 0.425, poly, 1, 1 | #0.475, sigmoid, 1, 1 | 0.425, rbf, 1, 1\n",
        "#0.434, rbf 1, 2 |0.521 linear, 0, 10\n",
        "\n",
        "accuracy_score(y_dados_test_over, previsoes)"
      ],
      "metadata": {
        "colab": {
          "base_uri": "https://localhost:8080/"
        },
        "id": "IAJaF1_S28cB",
        "outputId": "40b016a1-d60a-4148-e320-b96ed69663a0"
      },
      "execution_count": 3298,
      "outputs": [
        {
          "output_type": "execute_result",
          "data": {
            "text/plain": [
              "0.5797101449275363"
            ]
          },
          "metadata": {},
          "execution_count": 3298
        }
      ]
    },
    {
      "cell_type": "code",
      "source": [
        "from yellowbrick.classifier import ConfusionMatrix\n",
        "cm = ConfusionMatrix(svm_dados)\n",
        "cm.fit(X_dados_train_over, y_dados_train_over)\n",
        "cm.score(X_dados_test_over, y_dados_test_over)"
      ],
      "metadata": {
        "colab": {
          "base_uri": "https://localhost:8080/",
          "height": 0
        },
        "id": "g8FC5K-02_is",
        "outputId": "a8e60bac-c994-4c7c-a55e-dcdc076a0dc6"
      },
      "execution_count": 3299,
      "outputs": [
        {
          "output_type": "execute_result",
          "data": {
            "text/plain": [
              "0.5797101449275363"
            ]
          },
          "metadata": {},
          "execution_count": 3299
        },
        {
          "output_type": "display_data",
          "data": {
            "text/plain": [
              "<Figure size 576x396 with 1 Axes>"
            ],
            "image/png": "[encoded data removed]"
          },
          "metadata": {}
        }
      ]
    },
    {
      "cell_type": "code",
      "source": [
        "print(classification_report(y_dados_test_over, previsoes))"
      ],
      "metadata": {
        "colab": {
          "base_uri": "https://localhost:8080/"
        },
        "id": "XOQEdZ3h3Bpl",
        "outputId": "2ea05358-7fa3-4481-b6c3-ecd5d949d25d"
      },
      "execution_count": 3300,
      "outputs": [
        {
          "output_type": "stream",
          "name": "stdout",
          "text": [
            "              precision    recall  f1-score   support\n",
            "\n",
            "           I       0.59      0.62      0.61        16\n",
            "          II       0.63      0.75      0.69        16\n",
            "         III       0.43      0.30      0.35        20\n",
            "          IV       0.63      0.71      0.67        17\n",
            "\n",
            "    accuracy                           0.58        69\n",
            "   macro avg       0.57      0.60      0.58        69\n",
            "weighted avg       0.56      0.58      0.57        69\n",
            "\n"
          ]
        }
      ]
    },
    {
      "cell_type": "markdown",
      "source": [
        "# **07. Agrupamento Hierarquico**"
      ],
      "metadata": {
        "id": "ZAjK5orIOw9k"
      }
    },
    {
      "cell_type": "code",
      "source": [
        "#PREPARAR OS DADOS ==> Importar e tratar os dados\n",
        "import pandas as pd\n",
        "\n",
        "# Importando o Arquivo\n",
        "dados = pd.read_csv(\"dataMODIFICADOv10F.csv\", sep=\",\")\n",
        "\n",
        "#Transformando os nulos para 0\n",
        "dados = dados.fillna(1, inplace= False) \n",
        "\n",
        "#Separando as variaveis de interesse | sex\tage\tLYVE1\tREG1B\tTFF1\tcreatinine\tplasma_CA19_9\tREG1A\t\n",
        "X_dados = dados.iloc[:,7:10].values\n",
        "X_dados \n",
        "\n",
        "#Separando a classe alvo | stage2\n",
        "y_dados = dados.iloc[:,13].values\n",
        "y_dados\n",
        "\n",
        "# Tratando as colunas que São rotulos | sex\n",
        "from sklearn.preprocessing import LabelEncoder\n",
        "\n",
        "label_encoder_sex = LabelEncoder()\n",
        "y_dados = label_encoder_sex.fit_transform(y_dados)\n",
        "y_dados += y_dados\n",
        "\n",
        "# Sobreamostragem com SMOTE\n",
        "\n",
        "from imblearn.over_sampling import SMOTE\n",
        "\n",
        "smote = SMOTE(sampling_strategy='not majority')\n",
        "X_over, y_over = smote.fit_resample(X_dados, y_dados)\n",
        "\n",
        "#y_over.shape, X_over.shape\n",
        "np.unique(y_dados, return_counts = True), np.unique(y_over, return_counts = True)\n",
        "\n",
        "import seaborn as sns\n",
        "sns.countplot(x = y_over);\n",
        "\n",
        "#from sklearn.preprocessing import OneHotEncoder\n",
        "#from sklearn.compose import ColumnTransformer\n",
        "#onehotencorder = ColumnTransformer(transformers=[(\"OneHot\", OneHotEncoder(), [0])],remainder='passthrough')\n",
        "#X_dados = onehotencorder.fit_transform(X_over).toarray()\n",
        "\n",
        "#X_dados, X_dados.shape\n",
        "\n",
        "#ESCALONAMENTO DE ATRIBUTOS\n",
        "from sklearn.preprocessing import StandardScaler\n",
        "scaler_dados = StandardScaler()\n",
        "X_dados = scaler_dados.fit_transform(X_over)\n",
        "X_dados\n",
        "\n",
        "#Separação dos dados BALANCEADOS\n",
        "from sklearn.model_selection import train_test_split\n",
        "X_dados_train_over, X_dados_test_over, y_dados_train_over, y_dados_test_over = train_test_split(X_dados, y_over, test_size=0.2, random_state=0)\n"
      ],
      "metadata": {
        "colab": {
          "base_uri": "https://localhost:8080/",
          "height": 347
        },
        "id": "ag2xRPX74Tnl",
        "outputId": "da9f2d20-cda0-437f-f3ad-b9734c288f5f"
      },
      "execution_count": 3301,
      "outputs": [
        {
          "output_type": "display_data",
          "data": {
            "text/plain": [
              "<Figure size 576x396 with 1 Axes>"
            ],
            "image/png": "[encoded data removed]"
          },
          "metadata": {}
        }
      ]
    },
    {
      "cell_type": "code",
      "source": [
        "#Reduzir as dimensões de dimensões.\n",
        "from sklearn.decomposition import PCA\n",
        "import plotly.express as px\n"
      ],
      "metadata": {
        "id": "7uP7tvywO1WB"
      },
      "execution_count": 3302,
      "outputs": []
    },
    {
      "cell_type": "code",
      "source": [
        "pca = PCA(n_components=2)"
      ],
      "metadata": {
        "id": "O81dL1nGO4oM"
      },
      "execution_count": 3303,
      "outputs": []
    },
    {
      "cell_type": "code",
      "source": [
        "X_dados_train_pca = pca.fit_transform(X_dados_train_over)\n",
        "X_dados_test_pca = pca.transform(X_dados_test_over)"
      ],
      "metadata": {
        "id": "2A-49BgrO7oJ"
      },
      "execution_count": 3304,
      "outputs": []
    },
    {
      "cell_type": "code",
      "source": [
        "X_dados_train_pca.shape, X_dados_test_pca.shape,"
      ],
      "metadata": {
        "colab": {
          "base_uri": "https://localhost:8080/"
        },
        "id": "EbCcXVbIP6Hi",
        "outputId": "cefe23f2-c734-4580-8d9b-88158cdbe8d7"
      },
      "execution_count": 3305,
      "outputs": [
        {
          "output_type": "execute_result",
          "data": {
            "text/plain": [
              "((275, 2), (69, 2))"
            ]
          },
          "metadata": {},
          "execution_count": 3305
        }
      ]
    },
    {
      "cell_type": "code",
      "source": [
        "#X_dados_train_pca"
      ],
      "metadata": {
        "id": "ezM8GuI_QOuw"
      },
      "execution_count": 3306,
      "outputs": []
    },
    {
      "cell_type": "code",
      "source": [
        "pca.explained_variance_ratio_"
      ],
      "metadata": {
        "colab": {
          "base_uri": "https://localhost:8080/"
        },
        "id": "n9bCRWdgQlQ_",
        "outputId": "d4f6a432-674d-40a3-80b0-386a7b569de2"
      },
      "execution_count": 3307,
      "outputs": [
        {
          "output_type": "execute_result",
          "data": {
            "text/plain": [
              "array([0.69371026, 0.18370255])"
            ]
          },
          "metadata": {},
          "execution_count": 3307
        }
      ]
    },
    {
      "cell_type": "code",
      "source": [
        "pca.explained_variance_ratio_.sum()"
      ],
      "metadata": {
        "colab": {
          "base_uri": "https://localhost:8080/"
        },
        "id": "w4wrfjYZQqE1",
        "outputId": "e8b6847f-829a-4f41-f34f-03ffbd46e04c"
      },
      "execution_count": 3308,
      "outputs": [
        {
          "output_type": "execute_result",
          "data": {
            "text/plain": [
              "0.8774128128530799"
            ]
          },
          "metadata": {},
          "execution_count": 3308
        }
      ]
    },
    {
      "cell_type": "code",
      "source": [
        "grafico = px.scatter(x = X_dados_train_pca[:,0], y= X_dados_train_pca[:,1]) \n",
        "grafico.show()"
      ],
      "metadata": {
        "colab": {
          "base_uri": "https://localhost:8080/",
          "height": 542
        },
        "id": "aBV2Nqt7cPFJ",
        "outputId": "c26e9d95-1dcb-4624-de8b-bae88bcbe73b"
      },
      "execution_count": 3309,
      "outputs": [
        {
          "output_type": "display_data",
          "data": {
            "text/html": [
              "<html>\n",
              "<head><meta charset=\"utf-8\" /></head>\n",
              "<body>\n",
              "    <div>            <script src=\"https://cdnjs.cloudflare.com/ajax/libs/mathjax/2.7.5/MathJax.js?config=TeX-AMS-MML_SVG\"></script><script type=\"text/javascript\">if (window.MathJax) {MathJax.Hub.Config({SVG: {font: \"STIX-Web\"}});}</script>                <script type=\"text/javascript\">window.PlotlyConfig = {MathJaxConfig: 'local'};</script>\n",
              "        <script src=\"https://cdn.plot.ly/plotly-2.8.3.min.js\"></script>                <div id=\"61187a2b-1d74-4aca-a90e-93eb96723a6c\" class=\"plotly-graph-div\" style=\"height:525px; width:100%;\"></div>            <script type=\"text/javascript\">                                    window.PLOTLYENV=window.PLOTLYENV || {};                                    if (document.getElementById(\"61187a2b-1d74-4aca-a90e-93eb96723a6c\")) {                    Plotly.newPlot(                        \"61187a2b-1d74-4aca-a90e-93eb96723a6c\",                        [{\"hovertemplate\":\"x=%{x}<br>y=%{y}<extra></extra>\",\"legendgroup\":\"\",\"marker\":{\"color\":\"#636efa\",\"symbol\":\"circle\"},\"mode\":\"markers\",\"name\":\"\",\"orientation\":\"v\",\"showlegend\":false,\"x\":[-0.5721201496081542,-0.3927477744890899,-0.5518335709432689,-1.3338685361339226,2.1278601231573098,2.081338839265049,-0.9852003602285169,2.619184752660603,-0.6377634846662669,-1.621956611653829,-0.4534263624037166,-1.3125036512200865,0.7969571833829039,-0.5062357824785474,0.2082073527217606,-0.7286241969027363,-0.493484897933455,1.949967362316473,-0.5428308638694406,0.05044755128481851,0.7777597443274348,-1.185627092400284,-0.7533747300230759,1.3851255316276305,-1.2474319645032532,4.617764649933502,1.6657764163840678,-0.4911239848986847,1.9981630493826275,-0.7536509184422094,0.07857270010393658,-1.1560759913977048,1.686077636874504,1.0889737347981636,-0.33957449660006095,1.0616879274742983,0.2189544392736865,-1.1205395620363563,2.0857719048417005,-1.2473363620166915,0.8426710190072,-1.287977134684851,0.8813191739302134,-1.3379073959838261,-0.80850290718332,1.6703832090385893,-0.6127426557702658,-1.4354606767115856,0.1542006344266286,-0.8187118332108372,-0.6868321560451245,-0.48292102480769705,-0.45394805322394766,-0.6666554208946731,0.9796558274674353,-0.32551556208468124,-1.283328415516001,1.9670970406537494,-1.5709589640892918,1.1589819657679838,-1.096206209422123,-0.753588122295558,-1.5783480639099348,-1.1844530951789376,1.3859437171611537,-1.3014064463004695,-0.4504818620683774,-1.3794652097358913,-0.19999561363027865,0.1466221864375785,-1.4399222709897501,0.18160800630891552,-1.276853423739492,1.2932840494134328,-1.3414006783837038,-0.3825411595261137,-1.3427735704128176,-1.1875312835109793,-1.469099769806277,0.8356312823160066,-1.426333375954676,-1.4341891793029466,-1.3563693837507678,-1.3688488095188687,-0.5721759679181901,1.2085363328166363,-0.020437740401146584,1.9126442661742311,2.5312751103641524,0.624608220760768,1.2439270328933305,0.7704157522516489,-1.108412449563949,-0.9894171298130682,2.178133036267982,0.7875041411910222,1.2247327385784337,2.316445684831226,-0.6121812643140081,1.057871176647886,0.1993639386837462,-1.2061529188432085,-1.7647233373722355,3.08257376579109,-0.20037656188998665,-0.7297963358281929,-1.2868210094859116,-1.4516750658335174,0.024990182453633516,0.5041097701377727,-0.97892683391236,1.7072675268168127,0.38213389877662507,0.8870769287244887,-0.03219756568843567,-0.8838336826659894,-1.32520777271863,2.481002788848707,1.0524800011352302,8.98945570903234,-1.6048842672860972,-0.4667054276900137,0.8406689295650331,0.12411918628821844,0.10521658162856262,-0.12488723109192915,-1.257802880021438,0.6575296965398588,-0.4890657310017843,1.0951105559830947,0.04745149610085254,-1.0154846363672874,3.2477466067094185,-1.3621223705853704,-1.2695048727803016,-1.5421459312957129,-0.8942344323150133,-0.8199669493520415,0.35933314609576716,-1.8749497189610367,-1.5395448775063074,-0.6451280311505632,-1.0520092143026103,-1.3709909731689787,-1.276186977520648,4.193924578160095,0.12955406925226906,-1.4134111040125195,2.1636807827875617,1.8195502524616982,-1.1305288909788827,0.133745400952481,-1.2456411069917936,-0.8807015420023574,-1.3366911702465436,0.14304091209218806,-0.6348367211813092,-1.3350684389465148,0.4957288344160751,0.07121539242750888,-0.1693998008262692,-0.38451589042647877,-1.5772932379661606,-0.638992539826619,-0.47501823976986735,-1.2842358266172196,-0.4927664098814089,0.4437312709333631,-0.698712674971015,-1.006033705716104,-0.9790097815859808,-1.4771578235002063,-1.4267174228209731,-1.5097457999440365,-0.31778068996240294,-1.3717217805217985,-0.17909376987382808,-0.7703839857551239,1.7119073074722198,0.9396815973922641,0.2650350687460419,-0.515347193726251,-0.8902859273228186,-0.8455099295571886,-0.500114873184955,1.2678451664079455,0.3791558006882138,-1.267334368374033,2.1627022073899194,-0.5482036855323158,1.118176080629694,0.8385123274309743,-0.46229401282351207,2.2957124771591055,-1.270553208208803,1.9694637231468317,-0.8093630897382815,-0.5918717601896447,1.7811968553905047,-1.3613485808631154,-1.3376240137122888,-1.6551966176066053,-0.8662396010766474,2.059924036778335,2.470888866996948,2.1174366544531456,1.1573359201775162,-1.0154749288460894,-1.6258449344920258,-1.3625161656381077,5.007202174009791,-0.521362234326565,2.2079466589989836,-1.219782610055479,0.33528069192985005,-1.568263463254287,3.9490612972520833,-1.429818004960051,-1.3591662811214265,-0.7907840944454393,-0.9260437565320667,-0.8908056818805489,-0.4707411053309817,-0.6121644785343898,-1.194866585487015,0.7618772761286237,-0.5362189857190588,-1.472800518345104,-0.5559532316053979,0.22163476432962306,2.5892616669816073,0.5320703708547171,2.3112573296953225,0.4285152782826695,-1.4577981695355846,4.696645890756154,-1.7524621743439277,-0.541393975286951,4.863979948103697,-1.284098439280184,-1.1030692926708405,-0.8341888207109138,1.1106770813277407,2.054180419850814,-0.010029591754112308,-1.249794018193644,0.4418026215963102,0.11699617049130738,0.159946054325158,0.07270431664942836,-1.3613962054580753,-0.40929705562469404,-1.3409213634920292,-1.5491053755851043,-0.5095629539580704,-0.6973749870388204,2.178894989644297,-1.1209780001382,2.2284538492570163,0.05148499758666532,4.4674291084228654,-0.5939297345357418,-1.6322208085890184,-0.2715424994852152,1.0590459502753082,2.337651461598366,-1.308553945313848,-1.3355871559443433,-0.5515556000485157,-0.9281538779377804,-0.4006211433495396,2.1637777833786735,0.39787334561667237,-0.8132788965282782,1.6883072978441347],\"xaxis\":\"x\",\"y\":[0.5471690905962088,0.08712033660640078,1.1541923516803334,-0.5207888148419144,-1.669321761732714,0.24667751969750581,0.5419956110386862,0.3453881756784717,-1.1960686261234477,-0.28317826038615473,0.6092739529760791,0.02333454284287337,-0.3752929194051145,-1.3531904293126467,0.8926278995930288,0.35436772790706556,0.6042684705602926,0.569664378634758,1.1460566114481616,0.10103229678369595,1.1511629475979406,-0.4447920752202055,0.15116878918940893,1.9226770392948582,-0.8787098140753581,-1.8897445486296236,0.8201688607302343,-0.5328421766553122,0.21493593486320384,0.47175810517920297,0.06521788910728946,-0.23002611353198377,0.38124234148945735,-0.02313373868039469,0.47708400863338307,1.128904703548616,0.4982406337905609,-0.6570007782991091,0.3189094096201373,-0.1346063951389181,1.1312449276401626,-0.7974512774756554,-0.7840978858351813,-0.15565809060801447,-0.7521525268983805,2.0195173436795457,0.47002629682150415,-0.12376957784811062,0.8281014067855662,-0.482628975802344,0.8702306324618447,0.17124565136289394,0.8355640857423403,-0.3229295960969221,-0.3584121175540678,-1.020337407318622,-0.8787992004845392,-1.1302309682241327,-0.29908971632385445,0.42071565081191215,-0.9264727851219419,-0.20397249654786856,-0.23427886946348583,0.17717553638483707,0.7216562595941831,-0.2672689477677273,0.6526747219992516,-0.7099005602819342,0.5044092838367876,0.49792011693386296,-0.4426848330176918,0.8131302625634977,-0.059928860301070364,0.2808920236776561,-0.17515416967241954,-0.6348313130097554,-0.70089818836354,-0.19637629882223448,-0.2955577687502789,0.6587350890465686,-0.374160494299337,-0.7495482670908157,-0.45671509233144436,-0.43887473067751814,0.6228820443096104,1.2229233040058187,1.3126804555106326,-1.2246781568010783,0.9723501423581014,1.0495477395576673,0.07365226202879391,0.5756304898736321,-0.31616239140270713,-0.8338675167040758,0.12301952561053195,-0.14524336420514153,0.8375729255393104,0.1570683192790846,0.616667305961127,-0.5221800980812907,0.47521818134596416,-0.1764554989687314,-0.5277375219840745,-0.6395646935041859,0.24349365914929766,0.307618134340511,-0.263531238380497,-0.37924413425003023,0.7168151045719745,0.8333507558623137,0.04452466314699915,0.24769222925899342,0.4383500936623082,0.7576816172441765,1.6376466795857905,-0.7225819794504535,-0.5542313244259314,0.914414015086714,1.5176740366275459,-2.79601842540353,-0.40960190794708157,-0.11913647360470943,-0.08129752653955086,0.7843620346130856,0.6601823373395308,-0.5781367978425632,-0.3778336634331686,0.6148770336193374,0.16529779316175156,0.11366202516705758,0.6728848005623831,-0.7448463552951917,4.21472256522063,-0.4756527565509604,-0.9181266918768383,-0.26532529983641184,-0.26536626410495073,0.5137283434823502,-0.7680320064752737,-0.6718297936439469,-0.5104845284652583,-0.21684521598091802,0.21768788268205472,-0.7020974157222573,-0.141312229720708,-1.1851719937619494,0.46485723901472514,-0.7301175059892073,0.13355391313429824,0.4486067325034658,0.19186622443092982,-0.13507481197837884,-0.13421236195895508,-0.7276754526085141,-0.2613233112172618,0.522475434830336,0.2661221548701513,-0.41387548928344065,0.4336073519665016,0.4682069476433701,0.15223482305201413,-0.08172042434653241,-0.4361996954115535,0.8611595936649773,0.1403848365489554,-0.254908347769236,0.5732598998673142,-0.7039878585537435,0.1971732453377386,-0.06147302891789523,-0.4422521157925813,-0.3522543599800263,-0.2597365408840222,-0.5734883602117257,0.14299676034292463,-0.7714911249570228,0.5954964753175496,-0.12861140056815967,2.2089865030182274,-0.3117256255911476,0.06734697954236063,1.0192343273592799,0.04884700558172642,-0.6983275025151497,-0.5067529234109999,1.11090399685161,-0.6921659077008477,-0.34430346676299267,0.13588207307526037,0.38095034633968455,0.6476093236233109,0.5145858546854164,-0.0991208128840625,-0.8614977828657657,0.0019402352625940151,0.400374603814911,-0.3646331391864408,-0.45723584536272105,0.13436601161792994,-0.4759668841541042,-0.1814331312392544,-0.4173003614176961,0.3059151563846918,0.3804048969677383,-1.2969566148721459,0.24357479384749456,0.6283551515933892,-0.4841165928989182,-0.4069380038225653,-0.8022733026444406,-0.7515267546261645,0.6613676229328296,-1.199520776422868,0.3334594575067754,1.0204304049777986,-0.4107546196700306,-0.12333037732756018,-0.3737846015525519,-0.7777371966644601,0.11968447226304404,-0.03294418243024541,0.5193694183526052,0.630946731674266,-0.1379777612761372,-0.28208403918700226,-1.011262368704781,0.841872821607903,-0.37163334282915267,0.6780964240797247,0.8881385920748252,-0.08045466661594008,-1.2264460586566335,-0.1741179542488773,-0.5738119909470557,-0.29616076083623155,-3.2430057783976336,-0.6848036696569013,0.013828934941181079,-2.092739662496643,-0.0723551603233548,-0.42903593158463676,-0.34448204068058685,0.7336273043973845,0.3820345472983046,0.6557683821562087,-0.32645704881175086,1.2729619968089456,0.7010534626109475,0.21047158236122313,1.4690253149335715,-0.44952883882149436,-0.5931822085941537,-0.42013691584940416,-0.4395648126380677,0.6571085560486734,0.6678967842973293,-1.4248666758440645,0.21875612085328028,-1.0404520779299071,0.643198259591467,-0.4731835036088335,0.29945369663119475,-0.4392178534389824,0.5924228614974069,0.820894127244011,1.0463045546387377,-0.48285485801612943,-0.48642498980033355,1.1863165536079388,-0.6419208603878037,0.8661921680869543,-1.5421267341585063,-0.6536587444300221,-0.9809546502709283,0.16140382411782891],\"yaxis\":\"y\",\"type\":\"scatter\"}],                        {\"template\":{\"data\":{\"bar\":[{\"error_x\":{\"color\":\"#2a3f5f\"},\"error_y\":{\"color\":\"#2a3f5f\"},\"marker\":{\"line\":{\"color\":\"#E5ECF6\",\"width\":0.5},\"pattern\":{\"fillmode\":\"overlay\",\"size\":10,\"solidity\":0.2}},\"type\":\"bar\"}],\"barpolar\":[{\"marker\":{\"line\":{\"color\":\"#E5ECF6\",\"width\":0.5},\"pattern\":{\"fillmode\":\"overlay\",\"size\":10,\"solidity\":0.2}},\"type\":\"barpolar\"}],\"carpet\":[{\"aaxis\":{\"endlinecolor\":\"#2a3f5f\",\"gridcolor\":\"white\",\"linecolor\":\"white\",\"minorgridcolor\":\"white\",\"startlinecolor\":\"#2a3f5f\"},\"baxis\":{\"endlinecolor\":\"#2a3f5f\",\"gridcolor\":\"white\",\"linecolor\":\"white\",\"minorgridcolor\":\"white\",\"startlinecolor\":\"#2a3f5f\"},\"type\":\"carpet\"}],\"choropleth\":[{\"colorbar\":{\"outlinewidth\":0,\"ticks\":\"\"},\"type\":\"choropleth\"}],\"contour\":[{\"colorbar\":{\"outlinewidth\":0,\"ticks\":\"\"},\"colorscale\":[[0.0,\"#0d0887\"],[0.1111111111111111,\"#46039f\"],[0.2222222222222222,\"#7201a8\"],[0.3333333333333333,\"#9c179e\"],[0.4444444444444444,\"#bd3786\"],[0.5555555555555556,\"#d8576b\"],[0.6666666666666666,\"#ed7953\"],[0.7777777777777778,\"#fb9f3a\"],[0.8888888888888888,\"#fdca26\"],[1.0,\"#f0f921\"]],\"type\":\"contour\"}],\"contourcarpet\":[{\"colorbar\":{\"outlinewidth\":0,\"ticks\":\"\"},\"type\":\"contourcarpet\"}],\"heatmap\":[{\"colorbar\":{\"outlinewidth\":0,\"ticks\":\"\"},\"colorscale\":[[0.0,\"#0d0887\"],[0.1111111111111111,\"#46039f\"],[0.2222222222222222,\"#7201a8\"],[0.3333333333333333,\"#9c179e\"],[0.4444444444444444,\"#bd3786\"],[0.5555555555555556,\"#d8576b\"],[0.6666666666666666,\"#ed7953\"],[0.7777777777777778,\"#fb9f3a\"],[0.8888888888888888,\"#fdca26\"],[1.0,\"#f0f921\"]],\"type\":\"heatmap\"}],\"heatmapgl\":[{\"colorbar\":{\"outlinewidth\":0,\"ticks\":\"\"},\"colorscale\":[[0.0,\"#0d0887\"],[0.1111111111111111,\"#46039f\"],[0.2222222222222222,\"#7201a8\"],[0.3333333333333333,\"#9c179e\"],[0.4444444444444444,\"#bd3786\"],[0.5555555555555556,\"#d8576b\"],[0.6666666666666666,\"#ed7953\"],[0.7777777777777778,\"#fb9f3a\"],[0.8888888888888888,\"#fdca26\"],[1.0,\"#f0f921\"]],\"type\":\"heatmapgl\"}],\"histogram\":[{\"marker\":{\"pattern\":{\"fillmode\":\"overlay\",\"size\":10,\"solidity\":0.2}},\"type\":\"histogram\"}],\"histogram2d\":[{\"colorbar\":{\"outlinewidth\":0,\"ticks\":\"\"},\"colorscale\":[[0.0,\"#0d0887\"],[0.1111111111111111,\"#46039f\"],[0.2222222222222222,\"#7201a8\"],[0.3333333333333333,\"#9c179e\"],[0.4444444444444444,\"#bd3786\"],[0.5555555555555556,\"#d8576b\"],[0.6666666666666666,\"#ed7953\"],[0.7777777777777778,\"#fb9f3a\"],[0.8888888888888888,\"#fdca26\"],[1.0,\"#f0f921\"]],\"type\":\"histogram2d\"}],\"histogram2dcontour\":[{\"colorbar\":{\"outlinewidth\":0,\"ticks\":\"\"},\"colorscale\":[[0.0,\"#0d0887\"],[0.1111111111111111,\"#46039f\"],[0.2222222222222222,\"#7201a8\"],[0.3333333333333333,\"#9c179e\"],[0.4444444444444444,\"#bd3786\"],[0.5555555555555556,\"#d8576b\"],[0.6666666666666666,\"#ed7953\"],[0.7777777777777778,\"#fb9f3a\"],[0.8888888888888888,\"#fdca26\"],[1.0,\"#f0f921\"]],\"type\":\"histogram2dcontour\"}],\"mesh3d\":[{\"colorbar\":{\"outlinewidth\":0,\"ticks\":\"\"},\"type\":\"mesh3d\"}],\"parcoords\":[{\"line\":{\"colorbar\":{\"outlinewidth\":0,\"ticks\":\"\"}},\"type\":\"parcoords\"}],\"pie\":[{\"automargin\":true,\"type\":\"pie\"}],\"scatter\":[{\"marker\":{\"colorbar\":{\"outlinewidth\":0,\"ticks\":\"\"}},\"type\":\"scatter\"}],\"scatter3d\":[{\"line\":{\"colorbar\":{\"outlinewidth\":0,\"ticks\":\"\"}},\"marker\":{\"colorbar\":{\"outlinewidth\":0,\"ticks\":\"\"}},\"type\":\"scatter3d\"}],\"scattercarpet\":[{\"marker\":{\"colorbar\":{\"outlinewidth\":0,\"ticks\":\"\"}},\"type\":\"scattercarpet\"}],\"scattergeo\":[{\"marker\":{\"colorbar\":{\"outlinewidth\":0,\"ticks\":\"\"}},\"type\":\"scattergeo\"}],\"scattergl\":[{\"marker\":{\"colorbar\":{\"outlinewidth\":0,\"ticks\":\"\"}},\"type\":\"scattergl\"}],\"scattermapbox\":[{\"marker\":{\"colorbar\":{\"outlinewidth\":0,\"ticks\":\"\"}},\"type\":\"scattermapbox\"}],\"scatterpolar\":[{\"marker\":{\"colorbar\":{\"outlinewidth\":0,\"ticks\":\"\"}},\"type\":\"scatterpolar\"}],\"scatterpolargl\":[{\"marker\":{\"colorbar\":{\"outlinewidth\":0,\"ticks\":\"\"}},\"type\":\"scatterpolargl\"}],\"scatterternary\":[{\"marker\":{\"colorbar\":{\"outlinewidth\":0,\"ticks\":\"\"}},\"type\":\"scatterternary\"}],\"surface\":[{\"colorbar\":{\"outlinewidth\":0,\"ticks\":\"\"},\"colorscale\":[[0.0,\"#0d0887\"],[0.1111111111111111,\"#46039f\"],[0.2222222222222222,\"#7201a8\"],[0.3333333333333333,\"#9c179e\"],[0.4444444444444444,\"#bd3786\"],[0.5555555555555556,\"#d8576b\"],[0.6666666666666666,\"#ed7953\"],[0.7777777777777778,\"#fb9f3a\"],[0.8888888888888888,\"#fdca26\"],[1.0,\"#f0f921\"]],\"type\":\"surface\"}],\"table\":[{\"cells\":{\"fill\":{\"color\":\"#EBF0F8\"},\"line\":{\"color\":\"white\"}},\"header\":{\"fill\":{\"color\":\"#C8D4E3\"},\"line\":{\"color\":\"white\"}},\"type\":\"table\"}]},\"layout\":{\"annotationdefaults\":{\"arrowcolor\":\"#2a3f5f\",\"arrowhead\":0,\"arrowwidth\":1},\"autotypenumbers\":\"strict\",\"coloraxis\":{\"colorbar\":{\"outlinewidth\":0,\"ticks\":\"\"}},\"colorscale\":{\"diverging\":[[0,\"#8e0152\"],[0.1,\"#c51b7d\"],[0.2,\"#de77ae\"],[0.3,\"#f1b6da\"],[0.4,\"#fde0ef\"],[0.5,\"#f7f7f7\"],[0.6,\"#e6f5d0\"],[0.7,\"#b8e186\"],[0.8,\"#7fbc41\"],[0.9,\"#4d9221\"],[1,\"#276419\"]],\"sequential\":[[0.0,\"#0d0887\"],[0.1111111111111111,\"#46039f\"],[0.2222222222222222,\"#7201a8\"],[0.3333333333333333,\"#9c179e\"],[0.4444444444444444,\"#bd3786\"],[0.5555555555555556,\"#d8576b\"],[0.6666666666666666,\"#ed7953\"],[0.7777777777777778,\"#fb9f3a\"],[0.8888888888888888,\"#fdca26\"],[1.0,\"#f0f921\"]],\"sequentialminus\":[[0.0,\"#0d0887\"],[0.1111111111111111,\"#46039f\"],[0.2222222222222222,\"#7201a8\"],[0.3333333333333333,\"#9c179e\"],[0.4444444444444444,\"#bd3786\"],[0.5555555555555556,\"#d8576b\"],[0.6666666666666666,\"#ed7953\"],[0.7777777777777778,\"#fb9f3a\"],[0.8888888888888888,\"#fdca26\"],[1.0,\"#f0f921\"]]},\"colorway\":[\"#636efa\",\"#EF553B\",\"#00cc96\",\"#ab63fa\",\"#FFA15A\",\"#19d3f3\",\"#FF6692\",\"#B6E880\",\"#FF97FF\",\"#FECB52\"],\"font\":{\"color\":\"#2a3f5f\"},\"geo\":{\"bgcolor\":\"white\",\"lakecolor\":\"white\",\"landcolor\":\"#E5ECF6\",\"showlakes\":true,\"showland\":true,\"subunitcolor\":\"white\"},\"hoverlabel\":{\"align\":\"left\"},\"hovermode\":\"closest\",\"mapbox\":{\"style\":\"light\"},\"paper_bgcolor\":\"white\",\"plot_bgcolor\":\"#E5ECF6\",\"polar\":{\"angularaxis\":{\"gridcolor\":\"white\",\"linecolor\":\"white\",\"ticks\":\"\"},\"bgcolor\":\"#E5ECF6\",\"radialaxis\":{\"gridcolor\":\"white\",\"linecolor\":\"white\",\"ticks\":\"\"}},\"scene\":{\"xaxis\":{\"backgroundcolor\":\"#E5ECF6\",\"gridcolor\":\"white\",\"gridwidth\":2,\"linecolor\":\"white\",\"showbackground\":true,\"ticks\":\"\",\"zerolinecolor\":\"white\"},\"yaxis\":{\"backgroundcolor\":\"#E5ECF6\",\"gridcolor\":\"white\",\"gridwidth\":2,\"linecolor\":\"white\",\"showbackground\":true,\"ticks\":\"\",\"zerolinecolor\":\"white\"},\"zaxis\":{\"backgroundcolor\":\"#E5ECF6\",\"gridcolor\":\"white\",\"gridwidth\":2,\"linecolor\":\"white\",\"showbackground\":true,\"ticks\":\"\",\"zerolinecolor\":\"white\"}},\"shapedefaults\":{\"line\":{\"color\":\"#2a3f5f\"}},\"ternary\":{\"aaxis\":{\"gridcolor\":\"white\",\"linecolor\":\"white\",\"ticks\":\"\"},\"baxis\":{\"gridcolor\":\"white\",\"linecolor\":\"white\",\"ticks\":\"\"},\"bgcolor\":\"#E5ECF6\",\"caxis\":{\"gridcolor\":\"white\",\"linecolor\":\"white\",\"ticks\":\"\"}},\"title\":{\"x\":0.05},\"xaxis\":{\"automargin\":true,\"gridcolor\":\"white\",\"linecolor\":\"white\",\"ticks\":\"\",\"title\":{\"standoff\":15},\"zerolinecolor\":\"white\",\"zerolinewidth\":2},\"yaxis\":{\"automargin\":true,\"gridcolor\":\"white\",\"linecolor\":\"white\",\"ticks\":\"\",\"title\":{\"standoff\":15},\"zerolinecolor\":\"white\",\"zerolinewidth\":2}}},\"xaxis\":{\"anchor\":\"y\",\"domain\":[0.0,1.0],\"title\":{\"text\":\"x\"}},\"yaxis\":{\"anchor\":\"x\",\"domain\":[0.0,1.0],\"title\":{\"text\":\"y\"}},\"legend\":{\"tracegroupgap\":0},\"margin\":{\"t\":60}},                        {\"responsive\": true}                    ).then(function(){\n",
              "                            \n",
              "var gd = document.getElementById('61187a2b-1d74-4aca-a90e-93eb96723a6c');\n",
              "var x = new MutationObserver(function (mutations, observer) {{\n",
              "        var display = window.getComputedStyle(gd).display;\n",
              "        if (!display || display === 'none') {{\n",
              "            console.log([gd, 'removed!']);\n",
              "            Plotly.purge(gd);\n",
              "            observer.disconnect();\n",
              "        }}\n",
              "}});\n",
              "\n",
              "// Listen for the removal of the full notebook cells\n",
              "var notebookContainer = gd.closest('#notebook-container');\n",
              "if (notebookContainer) {{\n",
              "    x.observe(notebookContainer, {childList: true});\n",
              "}}\n",
              "\n",
              "// Listen for the clearing of the current output cell\n",
              "var outputEl = gd.closest('.output');\n",
              "if (outputEl) {{\n",
              "    x.observe(outputEl, {childList: true});\n",
              "}}\n",
              "\n",
              "                        })                };                            </script>        </div>\n",
              "</body>\n",
              "</html>"
            ]
          },
          "metadata": {}
        }
      ]
    },
    {
      "cell_type": "code",
      "source": [
        "import matplotlib.pyplot as plt\n",
        "from scipy.cluster.hierarchy import dendrogram, linkage"
      ],
      "metadata": {
        "id": "nLLYaRYSsQnf"
      },
      "execution_count": 3310,
      "outputs": []
    },
    {
      "cell_type": "code",
      "source": [
        "dendrograma = dendrogram(linkage(X_dados_train_pca, method='ward'))\n",
        "plt.title('Dendrograma')\n",
        "plt.xlabel('Biomarcadores')\n",
        "plt.ylabel('Distância');"
      ],
      "metadata": {
        "colab": {
          "base_uri": "https://localhost:8080/",
          "height": 374
        },
        "id": "fe1WkmfosS-Y",
        "outputId": "8599a9af-b36a-417c-8dd9-b41351db33a1"
      },
      "execution_count": 3311,
      "outputs": [
        {
          "output_type": "display_data",
          "data": {
            "text/plain": [
              "<Figure size 576x396 with 1 Axes>"
            ],
            "image/png": "[encoded data removed]"
          },
          "metadata": {}
        }
      ]
    },
    {
      "cell_type": "code",
      "source": [
        "from sklearn.cluster import AgglomerativeClustering"
      ],
      "metadata": {
        "id": "AnDNJbZisdha"
      },
      "execution_count": 3312,
      "outputs": []
    },
    {
      "cell_type": "code",
      "source": [
        "hc_dados_agrup = AgglomerativeClustering(n_clusters=2, linkage='ward', affinity='euclidean')\n",
        "rotulos = hc_dados_agrup.fit_predict(X_dados_train_pca)"
      ],
      "metadata": {
        "id": "BCu8KDb1sg1-"
      },
      "execution_count": 3313,
      "outputs": []
    },
    {
      "cell_type": "code",
      "source": [
        "grafico = px.scatter(x = X_dados_train_pca[:,0], y = X_dados_train_pca[:,1], color = rotulos)\n",
        "grafico.show()"
      ],
      "metadata": {
        "colab": {
          "base_uri": "https://localhost:8080/",
          "height": 542
        },
        "id": "PE-eUklJs9OC",
        "outputId": "ceee1cb3-f0cc-4e13-ac70-9e3f019b524a"
      },
      "execution_count": 3314,
      "outputs": [
        {
          "output_type": "display_data",
          "data": {
            "text/html": [
              "<html>\n",
              "<head><meta charset=\"utf-8\" /></head>\n",
              "<body>\n",
              "    <div>            <script src=\"https://cdnjs.cloudflare.com/ajax/libs/mathjax/2.7.5/MathJax.js?config=TeX-AMS-MML_SVG\"></script><script type=\"text/javascript\">if (window.MathJax) {MathJax.Hub.Config({SVG: {font: \"STIX-Web\"}});}</script>                <script type=\"text/javascript\">window.PlotlyConfig = {MathJaxConfig: 'local'};</script>\n",
              "        <script src=\"https://cdn.plot.ly/plotly-2.8.3.min.js\"></script>                <div id=\"0087ffe6-8fe2-4ba4-9a01-c0a55daa2d03\" class=\"plotly-graph-div\" style=\"height:525px; width:100%;\"></div>            <script type=\"text/javascript\">                                    window.PLOTLYENV=window.PLOTLYENV || {};                                    if (document.getElementById(\"0087ffe6-8fe2-4ba4-9a01-c0a55daa2d03\")) {                    Plotly.newPlot(                        \"0087ffe6-8fe2-4ba4-9a01-c0a55daa2d03\",                        [{\"hovertemplate\":\"x=%{x}<br>y=%{y}<br>color=%{marker.color}<extra></extra>\",\"legendgroup\":\"\",\"marker\":{\"color\":[1,1,1,1,0,0,1,0,1,1,1,1,0,1,0,1,1,0,1,1,0,1,1,0,1,0,0,1,0,1,1,1,0,0,1,0,0,1,0,1,0,1,0,1,1,0,1,1,0,1,1,1,1,1,0,1,1,0,1,0,1,1,1,1,0,1,1,1,1,0,1,0,1,0,1,1,1,1,1,0,1,1,1,1,1,0,0,0,0,0,0,0,1,1,0,0,0,0,1,0,0,1,1,0,1,1,1,1,0,0,1,0,0,0,0,1,1,0,0,0,1,1,0,0,0,1,1,0,1,0,0,1,0,1,1,1,1,1,0,1,1,1,1,1,1,0,0,1,0,0,1,1,1,1,1,0,1,1,0,0,1,1,1,1,1,1,1,0,1,1,1,1,1,1,1,1,1,1,0,0,1,1,1,1,1,0,0,1,0,1,0,0,1,0,1,0,1,1,0,1,1,1,1,0,0,0,0,1,1,1,0,1,0,1,0,1,0,1,1,1,1,1,1,1,1,0,1,1,1,0,0,0,0,0,1,0,1,1,0,1,1,1,0,0,0,1,0,0,1,0,1,1,1,1,1,1,0,1,0,0,0,1,1,1,0,0,1,1,1,1,1,0,0,1,0],\"coloraxis\":\"coloraxis\",\"symbol\":\"circle\"},\"mode\":\"markers\",\"name\":\"\",\"orientation\":\"v\",\"showlegend\":false,\"x\":[-0.5721201496081542,-0.3927477744890899,-0.5518335709432689,-1.3338685361339226,2.1278601231573098,2.081338839265049,-0.9852003602285169,2.619184752660603,-0.6377634846662669,-1.621956611653829,-0.4534263624037166,-1.3125036512200865,0.7969571833829039,-0.5062357824785474,0.2082073527217606,-0.7286241969027363,-0.493484897933455,1.949967362316473,-0.5428308638694406,0.05044755128481851,0.7777597443274348,-1.185627092400284,-0.7533747300230759,1.3851255316276305,-1.2474319645032532,4.617764649933502,1.6657764163840678,-0.4911239848986847,1.9981630493826275,-0.7536509184422094,0.07857270010393658,-1.1560759913977048,1.686077636874504,1.0889737347981636,-0.33957449660006095,1.0616879274742983,0.2189544392736865,-1.1205395620363563,2.0857719048417005,-1.2473363620166915,0.8426710190072,-1.287977134684851,0.8813191739302134,-1.3379073959838261,-0.80850290718332,1.6703832090385893,-0.6127426557702658,-1.4354606767115856,0.1542006344266286,-0.8187118332108372,-0.6868321560451245,-0.48292102480769705,-0.45394805322394766,-0.6666554208946731,0.9796558274674353,-0.32551556208468124,-1.283328415516001,1.9670970406537494,-1.5709589640892918,1.1589819657679838,-1.096206209422123,-0.753588122295558,-1.5783480639099348,-1.1844530951789376,1.3859437171611537,-1.3014064463004695,-0.4504818620683774,-1.3794652097358913,-0.19999561363027865,0.1466221864375785,-1.4399222709897501,0.18160800630891552,-1.276853423739492,1.2932840494134328,-1.3414006783837038,-0.3825411595261137,-1.3427735704128176,-1.1875312835109793,-1.469099769806277,0.8356312823160066,-1.426333375954676,-1.4341891793029466,-1.3563693837507678,-1.3688488095188687,-0.5721759679181901,1.2085363328166363,-0.020437740401146584,1.9126442661742311,2.5312751103641524,0.624608220760768,1.2439270328933305,0.7704157522516489,-1.108412449563949,-0.9894171298130682,2.178133036267982,0.7875041411910222,1.2247327385784337,2.316445684831226,-0.6121812643140081,1.057871176647886,0.1993639386837462,-1.2061529188432085,-1.7647233373722355,3.08257376579109,-0.20037656188998665,-0.7297963358281929,-1.2868210094859116,-1.4516750658335174,0.024990182453633516,0.5041097701377727,-0.97892683391236,1.7072675268168127,0.38213389877662507,0.8870769287244887,-0.03219756568843567,-0.8838336826659894,-1.32520777271863,2.481002788848707,1.0524800011352302,8.98945570903234,-1.6048842672860972,-0.4667054276900137,0.8406689295650331,0.12411918628821844,0.10521658162856262,-0.12488723109192915,-1.257802880021438,0.6575296965398588,-0.4890657310017843,1.0951105559830947,0.04745149610085254,-1.0154846363672874,3.2477466067094185,-1.3621223705853704,-1.2695048727803016,-1.5421459312957129,-0.8942344323150133,-0.8199669493520415,0.35933314609576716,-1.8749497189610367,-1.5395448775063074,-0.6451280311505632,-1.0520092143026103,-1.3709909731689787,-1.276186977520648,4.193924578160095,0.12955406925226906,-1.4134111040125195,2.1636807827875617,1.8195502524616982,-1.1305288909788827,0.133745400952481,-1.2456411069917936,-0.8807015420023574,-1.3366911702465436,0.14304091209218806,-0.6348367211813092,-1.3350684389465148,0.4957288344160751,0.07121539242750888,-0.1693998008262692,-0.38451589042647877,-1.5772932379661606,-0.638992539826619,-0.47501823976986735,-1.2842358266172196,-0.4927664098814089,0.4437312709333631,-0.698712674971015,-1.006033705716104,-0.9790097815859808,-1.4771578235002063,-1.4267174228209731,-1.5097457999440365,-0.31778068996240294,-1.3717217805217985,-0.17909376987382808,-0.7703839857551239,1.7119073074722198,0.9396815973922641,0.2650350687460419,-0.515347193726251,-0.8902859273228186,-0.8455099295571886,-0.500114873184955,1.2678451664079455,0.3791558006882138,-1.267334368374033,2.1627022073899194,-0.5482036855323158,1.118176080629694,0.8385123274309743,-0.46229401282351207,2.2957124771591055,-1.270553208208803,1.9694637231468317,-0.8093630897382815,-0.5918717601896447,1.7811968553905047,-1.3613485808631154,-1.3376240137122888,-1.6551966176066053,-0.8662396010766474,2.059924036778335,2.470888866996948,2.1174366544531456,1.1573359201775162,-1.0154749288460894,-1.6258449344920258,-1.3625161656381077,5.007202174009791,-0.521362234326565,2.2079466589989836,-1.219782610055479,0.33528069192985005,-1.568263463254287,3.9490612972520833,-1.429818004960051,-1.3591662811214265,-0.7907840944454393,-0.9260437565320667,-0.8908056818805489,-0.4707411053309817,-0.6121644785343898,-1.194866585487015,0.7618772761286237,-0.5362189857190588,-1.472800518345104,-0.5559532316053979,0.22163476432962306,2.5892616669816073,0.5320703708547171,2.3112573296953225,0.4285152782826695,-1.4577981695355846,4.696645890756154,-1.7524621743439277,-0.541393975286951,4.863979948103697,-1.284098439280184,-1.1030692926708405,-0.8341888207109138,1.1106770813277407,2.054180419850814,-0.010029591754112308,-1.249794018193644,0.4418026215963102,0.11699617049130738,0.159946054325158,0.07270431664942836,-1.3613962054580753,-0.40929705562469404,-1.3409213634920292,-1.5491053755851043,-0.5095629539580704,-0.6973749870388204,2.178894989644297,-1.1209780001382,2.2284538492570163,0.05148499758666532,4.4674291084228654,-0.5939297345357418,-1.6322208085890184,-0.2715424994852152,1.0590459502753082,2.337651461598366,-1.308553945313848,-1.3355871559443433,-0.5515556000485157,-0.9281538779377804,-0.4006211433495396,2.1637777833786735,0.39787334561667237,-0.8132788965282782,1.6883072978441347],\"xaxis\":\"x\",\"y\":[0.5471690905962088,0.08712033660640078,1.1541923516803334,-0.5207888148419144,-1.669321761732714,0.24667751969750581,0.5419956110386862,0.3453881756784717,-1.1960686261234477,-0.28317826038615473,0.6092739529760791,0.02333454284287337,-0.3752929194051145,-1.3531904293126467,0.8926278995930288,0.35436772790706556,0.6042684705602926,0.569664378634758,1.1460566114481616,0.10103229678369595,1.1511629475979406,-0.4447920752202055,0.15116878918940893,1.9226770392948582,-0.8787098140753581,-1.8897445486296236,0.8201688607302343,-0.5328421766553122,0.21493593486320384,0.47175810517920297,0.06521788910728946,-0.23002611353198377,0.38124234148945735,-0.02313373868039469,0.47708400863338307,1.128904703548616,0.4982406337905609,-0.6570007782991091,0.3189094096201373,-0.1346063951389181,1.1312449276401626,-0.7974512774756554,-0.7840978858351813,-0.15565809060801447,-0.7521525268983805,2.0195173436795457,0.47002629682150415,-0.12376957784811062,0.8281014067855662,-0.482628975802344,0.8702306324618447,0.17124565136289394,0.8355640857423403,-0.3229295960969221,-0.3584121175540678,-1.020337407318622,-0.8787992004845392,-1.1302309682241327,-0.29908971632385445,0.42071565081191215,-0.9264727851219419,-0.20397249654786856,-0.23427886946348583,0.17717553638483707,0.7216562595941831,-0.2672689477677273,0.6526747219992516,-0.7099005602819342,0.5044092838367876,0.49792011693386296,-0.4426848330176918,0.8131302625634977,-0.059928860301070364,0.2808920236776561,-0.17515416967241954,-0.6348313130097554,-0.70089818836354,-0.19637629882223448,-0.2955577687502789,0.6587350890465686,-0.374160494299337,-0.7495482670908157,-0.45671509233144436,-0.43887473067751814,0.6228820443096104,1.2229233040058187,1.3126804555106326,-1.2246781568010783,0.9723501423581014,1.0495477395576673,0.07365226202879391,0.5756304898736321,-0.31616239140270713,-0.8338675167040758,0.12301952561053195,-0.14524336420514153,0.8375729255393104,0.1570683192790846,0.616667305961127,-0.5221800980812907,0.47521818134596416,-0.1764554989687314,-0.5277375219840745,-0.6395646935041859,0.24349365914929766,0.307618134340511,-0.263531238380497,-0.37924413425003023,0.7168151045719745,0.8333507558623137,0.04452466314699915,0.24769222925899342,0.4383500936623082,0.7576816172441765,1.6376466795857905,-0.7225819794504535,-0.5542313244259314,0.914414015086714,1.5176740366275459,-2.79601842540353,-0.40960190794708157,-0.11913647360470943,-0.08129752653955086,0.7843620346130856,0.6601823373395308,-0.5781367978425632,-0.3778336634331686,0.6148770336193374,0.16529779316175156,0.11366202516705758,0.6728848005623831,-0.7448463552951917,4.21472256522063,-0.4756527565509604,-0.9181266918768383,-0.26532529983641184,-0.26536626410495073,0.5137283434823502,-0.7680320064752737,-0.6718297936439469,-0.5104845284652583,-0.21684521598091802,0.21768788268205472,-0.7020974157222573,-0.141312229720708,-1.1851719937619494,0.46485723901472514,-0.7301175059892073,0.13355391313429824,0.4486067325034658,0.19186622443092982,-0.13507481197837884,-0.13421236195895508,-0.7276754526085141,-0.2613233112172618,0.522475434830336,0.2661221548701513,-0.41387548928344065,0.4336073519665016,0.4682069476433701,0.15223482305201413,-0.08172042434653241,-0.4361996954115535,0.8611595936649773,0.1403848365489554,-0.254908347769236,0.5732598998673142,-0.7039878585537435,0.1971732453377386,-0.06147302891789523,-0.4422521157925813,-0.3522543599800263,-0.2597365408840222,-0.5734883602117257,0.14299676034292463,-0.7714911249570228,0.5954964753175496,-0.12861140056815967,2.2089865030182274,-0.3117256255911476,0.06734697954236063,1.0192343273592799,0.04884700558172642,-0.6983275025151497,-0.5067529234109999,1.11090399685161,-0.6921659077008477,-0.34430346676299267,0.13588207307526037,0.38095034633968455,0.6476093236233109,0.5145858546854164,-0.0991208128840625,-0.8614977828657657,0.0019402352625940151,0.400374603814911,-0.3646331391864408,-0.45723584536272105,0.13436601161792994,-0.4759668841541042,-0.1814331312392544,-0.4173003614176961,0.3059151563846918,0.3804048969677383,-1.2969566148721459,0.24357479384749456,0.6283551515933892,-0.4841165928989182,-0.4069380038225653,-0.8022733026444406,-0.7515267546261645,0.6613676229328296,-1.199520776422868,0.3334594575067754,1.0204304049777986,-0.4107546196700306,-0.12333037732756018,-0.3737846015525519,-0.7777371966644601,0.11968447226304404,-0.03294418243024541,0.5193694183526052,0.630946731674266,-0.1379777612761372,-0.28208403918700226,-1.011262368704781,0.841872821607903,-0.37163334282915267,0.6780964240797247,0.8881385920748252,-0.08045466661594008,-1.2264460586566335,-0.1741179542488773,-0.5738119909470557,-0.29616076083623155,-3.2430057783976336,-0.6848036696569013,0.013828934941181079,-2.092739662496643,-0.0723551603233548,-0.42903593158463676,-0.34448204068058685,0.7336273043973845,0.3820345472983046,0.6557683821562087,-0.32645704881175086,1.2729619968089456,0.7010534626109475,0.21047158236122313,1.4690253149335715,-0.44952883882149436,-0.5931822085941537,-0.42013691584940416,-0.4395648126380677,0.6571085560486734,0.6678967842973293,-1.4248666758440645,0.21875612085328028,-1.0404520779299071,0.643198259591467,-0.4731835036088335,0.29945369663119475,-0.4392178534389824,0.5924228614974069,0.820894127244011,1.0463045546387377,-0.48285485801612943,-0.48642498980033355,1.1863165536079388,-0.6419208603878037,0.8661921680869543,-1.5421267341585063,-0.6536587444300221,-0.9809546502709283,0.16140382411782891],\"yaxis\":\"y\",\"type\":\"scatter\"}],                        {\"template\":{\"data\":{\"bar\":[{\"error_x\":{\"color\":\"#2a3f5f\"},\"error_y\":{\"color\":\"#2a3f5f\"},\"marker\":{\"line\":{\"color\":\"#E5ECF6\",\"width\":0.5},\"pattern\":{\"fillmode\":\"overlay\",\"size\":10,\"solidity\":0.2}},\"type\":\"bar\"}],\"barpolar\":[{\"marker\":{\"line\":{\"color\":\"#E5ECF6\",\"width\":0.5},\"pattern\":{\"fillmode\":\"overlay\",\"size\":10,\"solidity\":0.2}},\"type\":\"barpolar\"}],\"carpet\":[{\"aaxis\":{\"endlinecolor\":\"#2a3f5f\",\"gridcolor\":\"white\",\"linecolor\":\"white\",\"minorgridcolor\":\"white\",\"startlinecolor\":\"#2a3f5f\"},\"baxis\":{\"endlinecolor\":\"#2a3f5f\",\"gridcolor\":\"white\",\"linecolor\":\"white\",\"minorgridcolor\":\"white\",\"startlinecolor\":\"#2a3f5f\"},\"type\":\"carpet\"}],\"choropleth\":[{\"colorbar\":{\"outlinewidth\":0,\"ticks\":\"\"},\"type\":\"choropleth\"}],\"contour\":[{\"colorbar\":{\"outlinewidth\":0,\"ticks\":\"\"},\"colorscale\":[[0.0,\"#0d0887\"],[0.1111111111111111,\"#46039f\"],[0.2222222222222222,\"#7201a8\"],[0.3333333333333333,\"#9c179e\"],[0.4444444444444444,\"#bd3786\"],[0.5555555555555556,\"#d8576b\"],[0.6666666666666666,\"#ed7953\"],[0.7777777777777778,\"#fb9f3a\"],[0.8888888888888888,\"#fdca26\"],[1.0,\"#f0f921\"]],\"type\":\"contour\"}],\"contourcarpet\":[{\"colorbar\":{\"outlinewidth\":0,\"ticks\":\"\"},\"type\":\"contourcarpet\"}],\"heatmap\":[{\"colorbar\":{\"outlinewidth\":0,\"ticks\":\"\"},\"colorscale\":[[0.0,\"#0d0887\"],[0.1111111111111111,\"#46039f\"],[0.2222222222222222,\"#7201a8\"],[0.3333333333333333,\"#9c179e\"],[0.4444444444444444,\"#bd3786\"],[0.5555555555555556,\"#d8576b\"],[0.6666666666666666,\"#ed7953\"],[0.7777777777777778,\"#fb9f3a\"],[0.8888888888888888,\"#fdca26\"],[1.0,\"#f0f921\"]],\"type\":\"heatmap\"}],\"heatmapgl\":[{\"colorbar\":{\"outlinewidth\":0,\"ticks\":\"\"},\"colorscale\":[[0.0,\"#0d0887\"],[0.1111111111111111,\"#46039f\"],[0.2222222222222222,\"#7201a8\"],[0.3333333333333333,\"#9c179e\"],[0.4444444444444444,\"#bd3786\"],[0.5555555555555556,\"#d8576b\"],[0.6666666666666666,\"#ed7953\"],[0.7777777777777778,\"#fb9f3a\"],[0.8888888888888888,\"#fdca26\"],[1.0,\"#f0f921\"]],\"type\":\"heatmapgl\"}],\"histogram\":[{\"marker\":{\"pattern\":{\"fillmode\":\"overlay\",\"size\":10,\"solidity\":0.2}},\"type\":\"histogram\"}],\"histogram2d\":[{\"colorbar\":{\"outlinewidth\":0,\"ticks\":\"\"},\"colorscale\":[[0.0,\"#0d0887\"],[0.1111111111111111,\"#46039f\"],[0.2222222222222222,\"#7201a8\"],[0.3333333333333333,\"#9c179e\"],[0.4444444444444444,\"#bd3786\"],[0.5555555555555556,\"#d8576b\"],[0.6666666666666666,\"#ed7953\"],[0.7777777777777778,\"#fb9f3a\"],[0.8888888888888888,\"#fdca26\"],[1.0,\"#f0f921\"]],\"type\":\"histogram2d\"}],\"histogram2dcontour\":[{\"colorbar\":{\"outlinewidth\":0,\"ticks\":\"\"},\"colorscale\":[[0.0,\"#0d0887\"],[0.1111111111111111,\"#46039f\"],[0.2222222222222222,\"#7201a8\"],[0.3333333333333333,\"#9c179e\"],[0.4444444444444444,\"#bd3786\"],[0.5555555555555556,\"#d8576b\"],[0.6666666666666666,\"#ed7953\"],[0.7777777777777778,\"#fb9f3a\"],[0.8888888888888888,\"#fdca26\"],[1.0,\"#f0f921\"]],\"type\":\"histogram2dcontour\"}],\"mesh3d\":[{\"colorbar\":{\"outlinewidth\":0,\"ticks\":\"\"},\"type\":\"mesh3d\"}],\"parcoords\":[{\"line\":{\"colorbar\":{\"outlinewidth\":0,\"ticks\":\"\"}},\"type\":\"parcoords\"}],\"pie\":[{\"automargin\":true,\"type\":\"pie\"}],\"scatter\":[{\"marker\":{\"colorbar\":{\"outlinewidth\":0,\"ticks\":\"\"}},\"type\":\"scatter\"}],\"scatter3d\":[{\"line\":{\"colorbar\":{\"outlinewidth\":0,\"ticks\":\"\"}},\"marker\":{\"colorbar\":{\"outlinewidth\":0,\"ticks\":\"\"}},\"type\":\"scatter3d\"}],\"scattercarpet\":[{\"marker\":{\"colorbar\":{\"outlinewidth\":0,\"ticks\":\"\"}},\"type\":\"scattercarpet\"}],\"scattergeo\":[{\"marker\":{\"colorbar\":{\"outlinewidth\":0,\"ticks\":\"\"}},\"type\":\"scattergeo\"}],\"scattergl\":[{\"marker\":{\"colorbar\":{\"outlinewidth\":0,\"ticks\":\"\"}},\"type\":\"scattergl\"}],\"scattermapbox\":[{\"marker\":{\"colorbar\":{\"outlinewidth\":0,\"ticks\":\"\"}},\"type\":\"scattermapbox\"}],\"scatterpolar\":[{\"marker\":{\"colorbar\":{\"outlinewidth\":0,\"ticks\":\"\"}},\"type\":\"scatterpolar\"}],\"scatterpolargl\":[{\"marker\":{\"colorbar\":{\"outlinewidth\":0,\"ticks\":\"\"}},\"type\":\"scatterpolargl\"}],\"scatterternary\":[{\"marker\":{\"colorbar\":{\"outlinewidth\":0,\"ticks\":\"\"}},\"type\":\"scatterternary\"}],\"surface\":[{\"colorbar\":{\"outlinewidth\":0,\"ticks\":\"\"},\"colorscale\":[[0.0,\"#0d0887\"],[0.1111111111111111,\"#46039f\"],[0.2222222222222222,\"#7201a8\"],[0.3333333333333333,\"#9c179e\"],[0.4444444444444444,\"#bd3786\"],[0.5555555555555556,\"#d8576b\"],[0.6666666666666666,\"#ed7953\"],[0.7777777777777778,\"#fb9f3a\"],[0.8888888888888888,\"#fdca26\"],[1.0,\"#f0f921\"]],\"type\":\"surface\"}],\"table\":[{\"cells\":{\"fill\":{\"color\":\"#EBF0F8\"},\"line\":{\"color\":\"white\"}},\"header\":{\"fill\":{\"color\":\"#C8D4E3\"},\"line\":{\"color\":\"white\"}},\"type\":\"table\"}]},\"layout\":{\"annotationdefaults\":{\"arrowcolor\":\"#2a3f5f\",\"arrowhead\":0,\"arrowwidth\":1},\"autotypenumbers\":\"strict\",\"coloraxis\":{\"colorbar\":{\"outlinewidth\":0,\"ticks\":\"\"}},\"colorscale\":{\"diverging\":[[0,\"#8e0152\"],[0.1,\"#c51b7d\"],[0.2,\"#de77ae\"],[0.3,\"#f1b6da\"],[0.4,\"#fde0ef\"],[0.5,\"#f7f7f7\"],[0.6,\"#e6f5d0\"],[0.7,\"#b8e186\"],[0.8,\"#7fbc41\"],[0.9,\"#4d9221\"],[1,\"#276419\"]],\"sequential\":[[0.0,\"#0d0887\"],[0.1111111111111111,\"#46039f\"],[0.2222222222222222,\"#7201a8\"],[0.3333333333333333,\"#9c179e\"],[0.4444444444444444,\"#bd3786\"],[0.5555555555555556,\"#d8576b\"],[0.6666666666666666,\"#ed7953\"],[0.7777777777777778,\"#fb9f3a\"],[0.8888888888888888,\"#fdca26\"],[1.0,\"#f0f921\"]],\"sequentialminus\":[[0.0,\"#0d0887\"],[0.1111111111111111,\"#46039f\"],[0.2222222222222222,\"#7201a8\"],[0.3333333333333333,\"#9c179e\"],[0.4444444444444444,\"#bd3786\"],[0.5555555555555556,\"#d8576b\"],[0.6666666666666666,\"#ed7953\"],[0.7777777777777778,\"#fb9f3a\"],[0.8888888888888888,\"#fdca26\"],[1.0,\"#f0f921\"]]},\"colorway\":[\"#636efa\",\"#EF553B\",\"#00cc96\",\"#ab63fa\",\"#FFA15A\",\"#19d3f3\",\"#FF6692\",\"#B6E880\",\"#FF97FF\",\"#FECB52\"],\"font\":{\"color\":\"#2a3f5f\"},\"geo\":{\"bgcolor\":\"white\",\"lakecolor\":\"white\",\"landcolor\":\"#E5ECF6\",\"showlakes\":true,\"showland\":true,\"subunitcolor\":\"white\"},\"hoverlabel\":{\"align\":\"left\"},\"hovermode\":\"closest\",\"mapbox\":{\"style\":\"light\"},\"paper_bgcolor\":\"white\",\"plot_bgcolor\":\"#E5ECF6\",\"polar\":{\"angularaxis\":{\"gridcolor\":\"white\",\"linecolor\":\"white\",\"ticks\":\"\"},\"bgcolor\":\"#E5ECF6\",\"radialaxis\":{\"gridcolor\":\"white\",\"linecolor\":\"white\",\"ticks\":\"\"}},\"scene\":{\"xaxis\":{\"backgroundcolor\":\"#E5ECF6\",\"gridcolor\":\"white\",\"gridwidth\":2,\"linecolor\":\"white\",\"showbackground\":true,\"ticks\":\"\",\"zerolinecolor\":\"white\"},\"yaxis\":{\"backgroundcolor\":\"#E5ECF6\",\"gridcolor\":\"white\",\"gridwidth\":2,\"linecolor\":\"white\",\"showbackground\":true,\"ticks\":\"\",\"zerolinecolor\":\"white\"},\"zaxis\":{\"backgroundcolor\":\"#E5ECF6\",\"gridcolor\":\"white\",\"gridwidth\":2,\"linecolor\":\"white\",\"showbackground\":true,\"ticks\":\"\",\"zerolinecolor\":\"white\"}},\"shapedefaults\":{\"line\":{\"color\":\"#2a3f5f\"}},\"ternary\":{\"aaxis\":{\"gridcolor\":\"white\",\"linecolor\":\"white\",\"ticks\":\"\"},\"baxis\":{\"gridcolor\":\"white\",\"linecolor\":\"white\",\"ticks\":\"\"},\"bgcolor\":\"#E5ECF6\",\"caxis\":{\"gridcolor\":\"white\",\"linecolor\":\"white\",\"ticks\":\"\"}},\"title\":{\"x\":0.05},\"xaxis\":{\"automargin\":true,\"gridcolor\":\"white\",\"linecolor\":\"white\",\"ticks\":\"\",\"title\":{\"standoff\":15},\"zerolinecolor\":\"white\",\"zerolinewidth\":2},\"yaxis\":{\"automargin\":true,\"gridcolor\":\"white\",\"linecolor\":\"white\",\"ticks\":\"\",\"title\":{\"standoff\":15},\"zerolinecolor\":\"white\",\"zerolinewidth\":2}}},\"xaxis\":{\"anchor\":\"y\",\"domain\":[0.0,1.0],\"title\":{\"text\":\"x\"}},\"yaxis\":{\"anchor\":\"x\",\"domain\":[0.0,1.0],\"title\":{\"text\":\"y\"}},\"coloraxis\":{\"colorbar\":{\"title\":{\"text\":\"color\"}},\"colorscale\":[[0.0,\"#0d0887\"],[0.1111111111111111,\"#46039f\"],[0.2222222222222222,\"#7201a8\"],[0.3333333333333333,\"#9c179e\"],[0.4444444444444444,\"#bd3786\"],[0.5555555555555556,\"#d8576b\"],[0.6666666666666666,\"#ed7953\"],[0.7777777777777778,\"#fb9f3a\"],[0.8888888888888888,\"#fdca26\"],[1.0,\"#f0f921\"]]},\"legend\":{\"tracegroupgap\":0},\"margin\":{\"t\":60}},                        {\"responsive\": true}                    ).then(function(){\n",
              "                            \n",
              "var gd = document.getElementById('0087ffe6-8fe2-4ba4-9a01-c0a55daa2d03');\n",
              "var x = new MutationObserver(function (mutations, observer) {{\n",
              "        var display = window.getComputedStyle(gd).display;\n",
              "        if (!display || display === 'none') {{\n",
              "            console.log([gd, 'removed!']);\n",
              "            Plotly.purge(gd);\n",
              "            observer.disconnect();\n",
              "        }}\n",
              "}});\n",
              "\n",
              "// Listen for the removal of the full notebook cells\n",
              "var notebookContainer = gd.closest('#notebook-container');\n",
              "if (notebookContainer) {{\n",
              "    x.observe(notebookContainer, {childList: true});\n",
              "}}\n",
              "\n",
              "// Listen for the clearing of the current output cell\n",
              "var outputEl = gd.closest('.output');\n",
              "if (outputEl) {{\n",
              "    x.observe(outputEl, {childList: true});\n",
              "}}\n",
              "\n",
              "                        })                };                            </script>        </div>\n",
              "</body>\n",
              "</html>"
            ]
          },
          "metadata": {}
        }
      ]
    }
  ]
}